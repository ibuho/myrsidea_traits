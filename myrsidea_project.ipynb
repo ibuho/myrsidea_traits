{
 "cells": [
  {
   "cell_type": "markdown",
   "metadata": {},
   "source": [
    "# Myrsidea_project"
   ]
  },
  {
   "cell_type": "markdown",
   "metadata": {},
   "source": [
    " <span style='color:royalblue'> In this color you are going to find my explanation notes about the notebook. </span> "
   ]
  },
  {
   "cell_type": "markdown",
   "metadata": {},
   "source": [
    "## <span style='color:mediumvioletred'> Step 1: Extract the text from the pdfs </span>"
   ]
  },
  {
   "cell_type": "markdown",
   "metadata": {},
   "source": [
    " <span style='color:royalblue'> Here I tried different modules to extract the text from the pdfs. The first one was PyPDF2. </span> "
   ]
  },
  {
   "cell_type": "markdown",
   "metadata": {},
   "source": [
    "### <span style='color:yellowgreen'> **Module PyPDF2**</span>"
   ]
  },
  {
   "cell_type": "code",
   "execution_count": 3,
   "metadata": {},
   "outputs": [],
   "source": [
    "import PyPDF2"
   ]
  },
  {
   "cell_type": "code",
   "execution_count": 4,
   "metadata": {},
   "outputs": [],
   "source": [
    "pdffileobj=open('Hola.pdf','rb')"
   ]
  },
  {
   "cell_type": "code",
   "execution_count": 5,
   "metadata": {},
   "outputs": [],
   "source": [
    "pdfreader=PyPDF2.PdfFileReader(pdffileobj)"
   ]
  },
  {
   "cell_type": "code",
   "execution_count": 6,
   "metadata": {},
   "outputs": [
    {
     "data": {
      "text/plain": [
       "2"
      ]
     },
     "execution_count": 6,
     "metadata": {},
     "output_type": "execute_result"
    }
   ],
   "source": [
    "x=pdfreader.numPages\n",
    "x"
   ]
  },
  {
   "cell_type": "code",
   "execution_count": 7,
   "metadata": {},
   "outputs": [
    {
     "data": {
      "text/plain": [
       "'Header one\\n \\nHeader two\\n \\nHeader tree\\n \\n \\nII\\n \\n \\n \\n3.\\n \\nTitle 3.\\n \\na.\\n \\nTitle 3.1.\\n \\n \\ni.\\n \\nSubtitle\\n \\n \\nHola 2 \\n \\n \\n \\nblublu2\\n \\n \\n \\n \\n'"
      ]
     },
     "execution_count": 7,
     "metadata": {},
     "output_type": "execute_result"
    }
   ],
   "source": [
    "pageobj=pdfreader.getPage(x-1)\n",
    "pageobj.extractText()"
   ]
  },
  {
   "cell_type": "code",
   "execution_count": 8,
   "metadata": {},
   "outputs": [],
   "source": [
    "pageObj = pdfreader.getPage(0)"
   ]
  },
  {
   "cell_type": "code",
   "execution_count": 10,
   "metadata": {},
   "outputs": [
    {
     "name": "stdout",
     "output_type": "stream",
     "text": [
      "Header one\n",
      " \n",
      "Header two\n",
      " \n",
      "Header tree\n",
      " \n",
      " \n",
      "I\n",
      " \n",
      "1.\n",
      " \n",
      "Title 1.\n",
      " \n",
      " \n",
      " \n",
      " \n",
      ": \n",
      "Hola : ) \n",
      " \n",
      " \n",
      "Blublublu\n",
      " \n",
      " \n",
      " \n",
      "\n",
      "12345\n",
      " \n",
      " \n",
      ". . . \n",
      " \n",
      " \n",
      "2.\n",
      " \n",
      "Title 2. \n",
      " \n",
      " \n",
      "Phrase number one.\n",
      " \n",
      "Phrase number two\n",
      ".\n",
      " \n",
      "Phrase number tree. \n",
      " \n",
      " \n",
      "Text text text text \n",
      " \n",
      " \n",
      " \n",
      " \n",
      " \n",
      " \n",
      " \n",
      " \n",
      " \n",
      " \n",
      " \n",
      " \n",
      " \n",
      " \n",
      " \n",
      " \n",
      " \n",
      " \n",
      " \n",
      " \n",
      " \n",
      " \n",
      " \n",
      " \n",
      " \n",
      " \n",
      "\n"
     ]
    }
   ],
   "source": [
    "print(pageObj.extractText())"
   ]
  },
  {
   "cell_type": "code",
   "execution_count": null,
   "metadata": {},
   "outputs": [],
   "source": [
    "Then I tried to use this module to extract all the pages of the "
   ]
  },
  {
   "cell_type": "code",
   "execution_count": 11,
   "metadata": {},
   "outputs": [
    {
     "ename": "NameError",
     "evalue": "name 'pdf' is not defined",
     "output_type": "error",
     "traceback": [
      "\u001b[0;31m---------------------------------------------------------------------------\u001b[0m",
      "\u001b[0;31mNameError\u001b[0m                                 Traceback (most recent call last)",
      "\u001b[0;32m<ipython-input-11-76d4859865ea>\u001b[0m in \u001b[0;36m<module>\u001b[0;34m\u001b[0m\n\u001b[0;32m----> 1\u001b[0;31m \u001b[0mreader\u001b[0m \u001b[0;34m=\u001b[0m \u001b[0mpdf\u001b[0m\u001b[0;34m.\u001b[0m\u001b[0mPdfFileReader\u001b[0m\u001b[0;34m(\u001b[0m\u001b[0mpdffileobj\u001b[0m\u001b[0;34m)\u001b[0m\u001b[0;34m\u001b[0m\u001b[0;34m\u001b[0m\u001b[0m\n\u001b[0m\u001b[1;32m      2\u001b[0m \u001b[0mpageObj2\u001b[0m \u001b[0;34m=\u001b[0m \u001b[0mreader\u001b[0m\u001b[0;34m.\u001b[0m\u001b[0mgetNumPages\u001b[0m\u001b[0;34m(\u001b[0m\u001b[0;34m)\u001b[0m\u001b[0;34m\u001b[0m\u001b[0;34m\u001b[0m\u001b[0m\n",
      "\u001b[0;31mNameError\u001b[0m: name 'pdf' is not defined"
     ]
    }
   ],
   "source": [
    "reader = pdf.PdfFileReader(pdffileobj)\n",
    "pageObj2 = reader.getNumPages()"
   ]
  },
  {
   "cell_type": "code",
   "execution_count": null,
   "metadata": {},
   "outputs": [],
   "source": [
    "for page_count in range(pageObj2):\n",
    "    page = reader.getPage(page_count)\n",
    "    page_data = page.extractText()\n"
   ]
  },
  {
   "cell_type": "code",
   "execution_count": null,
   "metadata": {},
   "outputs": [],
   "source": [
    "page_data"
   ]
  },
  {
   "cell_type": "markdown",
   "metadata": {},
   "source": [
    "  <br>"
   ]
  },
  {
   "cell_type": "markdown",
   "metadata": {},
   "source": [
    " <span style='color:royalblue'> The second module I tried was pdfplumber. This one I used it from the basic definition of the authors, to a general way where I could store all the content of each page in a list format. </span> "
   ]
  },
  {
   "cell_type": "markdown",
   "metadata": {},
   "source": [
    " ## <span style='color:yellowgreen'>Module pdfplumber  </span>"
   ]
  },
  {
   "cell_type": "code",
   "execution_count": 12,
   "metadata": {},
   "outputs": [],
   "source": [
    "import pdfplumber"
   ]
  },
  {
   "cell_type": "markdown",
   "metadata": {},
   "source": [
    "**How they put it**"
   ]
  },
  {
   "cell_type": "code",
   "execution_count": 13,
   "metadata": {},
   "outputs": [
    {
     "name": "stdout",
     "output_type": "stream",
     "text": [
      "Header one  Header two  Header tree \n",
      "1. Title 1. \n",
      " \n",
      " \n",
      " \n",
      ": Hola : )  \n",
      " \n",
      "Blublublu \n",
      " \n",
      " \n",
      "… 12345 \n",
      " \n",
      ". . .  \n",
      " \n",
      "2. Title 2.  \n",
      " \n",
      "Phrase number one. \n",
      "Phrase number two. \n",
      "Phrase number tree.  \n",
      " \n",
      "Text text text text  \n",
      " \n",
      " \n",
      " \n",
      " \n",
      " \n",
      " \n",
      " \n",
      " \n",
      " \n",
      " \n",
      " \n",
      " \n",
      " \n",
      " \n",
      " \n",
      " \n",
      " \n",
      " \n",
      " \n",
      " \n",
      " \n",
      " \n",
      " \n",
      " \n",
      " \n",
      "  I \n"
     ]
    }
   ],
   "source": [
    "with pdfplumber.open(r'Hola.pdf') as pdf:\n",
    "    first_page = pdf.pages[0]\n",
    "    print(first_page.extract_text())"
   ]
  },
  {
   "cell_type": "code",
   "execution_count": 15,
   "metadata": {},
   "outputs": [
    {
     "name": "stdout",
     "output_type": "stream",
     "text": [
      "Header one  Header two  Header tree \n",
      " \n",
      " \n",
      "3. Title 3. \n",
      "a.  Title 3.1. \n",
      " \n",
      "i.  Subtitle \n",
      " \n",
      "Hola 2  \n",
      " \n",
      " \n",
      "blublu2 \n",
      " \n",
      " \n",
      " \n",
      "  II \n"
     ]
    }
   ],
   "source": [
    "second_page = pdf.pages[1]\n",
    "print(second_page.extract_text())"
   ]
  },
  {
   "cell_type": "markdown",
   "metadata": {},
   "source": [
    "**Now let's put it in a more general way**"
   ]
  },
  {
   "cell_type": "markdown",
   "metadata": {},
   "source": [
    "First import the pdf "
   ]
  },
  {
   "cell_type": "code",
   "execution_count": 16,
   "metadata": {},
   "outputs": [],
   "source": [
    "pdf= pdfplumber.open(r'Hola.pdf')"
   ]
  },
  {
   "cell_type": "markdown",
   "metadata": {},
   "source": [
    "With a real pdf from the literature "
   ]
  },
  {
   "cell_type": "code",
   "execution_count": 17,
   "metadata": {},
   "outputs": [],
   "source": [
    "pdf= pdfplumber.open(r'68930_8pags.pdf')"
   ]
  },
  {
   "cell_type": "code",
   "execution_count": 27,
   "metadata": {},
   "outputs": [
    {
     "name": "stdout",
     "output_type": "stream",
     "text": [
      "MORPHOLOGY, SYSTEMATICS, EVOLUTION\n",
      "The Chewing Lice (Insecta, Phthiraptera) Fauna of the\n",
      "Swainson’s Warbler, Limnothlypis swainsonii (Aves, Parulidae)\n",
      "MICHELP.VALIM1,2ANDBRYANM.REILEY3,4\n",
      "J.Med.Entomol.52(5): 850–857(2015);DOI:10.1093/jme/tjv110\n",
      "PublishedonlineAugust6,2015\n",
      "ABSTRACT We examined Swainson’s warblers (Limnothlypis swainsonii (Audubon, 1834), Aves:\n",
      "Parulidae)forlicefaunaduring2yratthreestudysitesinArkansas,USA.Atotalof66individualswere\n",
      "examined;eightbirds(10.6%)wereparasitizedwith16liceoftwonewspeciesbelongingtotwogenera\n",
      "MyrsideaWaterson,1915(Amblycera:Menoponidae)andBrueeliaKe´ler,1936(Ischnocera:Philopteri-\n",
      "dae).ParasitologicalparameterdataaregivenontheprevalenceofliceonSwainson’swarblers.Species\n",
      "descriptionsandillustrationsareprovidedforMyrsideabensonisp.nov.andBrueelialimnothlypiaesp.\n",
      "nov.;includingakeyforfemalesofthegenusMyrsideathatparasitizeParulidae(Passeriformes).\n",
      "KEYWORDS Brueelia,Myrsidea,Swainson’swarbler,newspecies,USA\n",
      "There are only 18 species of chewing lice described MaterialandMethods\n",
      "from warblers of the family Parulidae (Aves: Passeri-\n",
      "Study Area. We conducted field work during the\n",
      "formes) (Price et al. 2003, Kounek et al. 2011). In\n",
      "spring and summers of 2009 and 2010 at three study\n",
      "North America, there are four recognized genera of\n",
      "sites in Arkansas: Big Island, Saint Francis National\n",
      "chewing lice with species described on birds from the\n",
      "Forest, and White River National Wildlife Refuge as\n",
      "family Parulidae: Brueelia Ke´ler, 1936 (Ischnocera,\n",
      "partofabroaderstudyevaluatingtheeffectsofaflood\n",
      "Philopteridae), Menacanthus Neumann, 1912, Myrsi-\n",
      "ontheSwainson’swarbler(Reiley2011).\n",
      "dea Waterston, 1915 (Amblycera, Menoponidae), and\n",
      "BigIsland(33(cid:2) 53’35.4732”N;91(cid:2) 05’32.1469”W)is\n",
      "Ricinus DeGeer, 1778 (Amblycera, Ricinidae) (Price\n",
      "alargeisland(9,700ha)boundedbytheWhiteRiverto\n",
      "et al. 2003). From these genera, only one species was\n",
      "thenorth,theArkansasRivertothewest,andtheMis-\n",
      "described in the genus Brueelia—B. interposita (Kel-\n",
      "sissippi River to the east. The island was owned by a\n",
      "logg, 1899)—from two species of Dendroica (Kellogg\n",
      "forest-products company, Anderson-Tully, which har-\n",
      "1899, Cicchino 1983) and five species were described\n",
      "vested timberthereyearly;thisresultedinhabitatthat\n",
      "in the genus Myrsidea from warbler hosts (Palma and\n",
      "was a mosaic of different age stands of bottomland\n",
      "Price2010,Kouneketal.2011).\n",
      "hardwood forest. Dominant trees and understory\n",
      "Thepurposeofthispaperistodescribetwospecies\n",
      "shrubsinareasoccupiedbySwainson’swarblersatBig\n",
      "ofchewinglicefoundontheSwainson’swarbler—Lim-\n",
      "IslandwassimilartoWhiteRiverNWR(Bensonetal.\n",
      "nothlypisswainsonii(Audubon,1834),amonotypicge-\n",
      "2009).\n",
      "nusofthe familyParulidae—composed bytwospecies\n",
      "Saint Francis National Forest (34(cid:2) 36’16.8084” N;\n",
      "ofthe genera MyrsideaandBrueelia,describedbelow.\n",
      "90(cid:2) 36’40.2357” W) is a 9,100-ha mix of upland forest\n",
      "Uptothepresent,therearenorecordsofanychewing\n",
      "and bottomland forest located at the southern tip of\n",
      "licefromtheSwainson’swarbler(Priceetal.2003).We\n",
      "Crowley’s Ridge. It was located in Lee and Phillips\n",
      "also provide a key for identification of females of spe-\n",
      "countiesinsoutheasternArkansas andbordered tothe\n",
      "ciesofMyrsideaparasitizingParulidae.\n",
      "east by the St. Francis and Mississippi rivers. Areas\n",
      "occupied by Swainson’s warblers in Saint Francis\n",
      "National Forest were along streams in upland areas\n",
      "and in swamps within bottomland hardwood forest\n",
      "(Anichetal.2009).\n",
      "White River National Wildlife Refuge (34(cid:2)\n",
      "01’12.5148”N;91(cid:2) 05’37.4506”W)isoneofthelargest\n",
      "1MuseudeZoologiadaUSP,Av.Nazare´,481,Ipiranga,Sa˜oPaulo, contiguous tracts (64,800ha) of remaining bottomland\n",
      "SP04263-000,Brazil.\n",
      "2Correspondingauthor,e-mail:mpvalim@hotmail.com. hardwoods in the southeastern United States (Twedt\n",
      "3Department of Biological Sciences, Arkansas State University, and Loesch 1999). Swainson’s warblers at White River\n",
      "P.O.Box599,Jonesboro,AR72467. National Wildlife Refuge generally occupied relatively\n",
      "4Presentaddress:IllinoisNaturalHistorySurvey,PrairieResearch higher elevation, less flood-prone areas (Benson et al.\n",
      "Institute,UniversityofIllinois,1816SouthOakSt.,Champaign,IL\n",
      "2011,Reileyetal.2013).\n",
      "61820.\n",
      "VCTheAuthors2015.PublishedbyOxfordUniversityPressonbehalfofEntomologicalSocietyofAmerica.\n",
      "Allrightsreserved.ForPermissions,pleaseemail:journals.permissions@oup.com\n"
     ]
    }
   ],
   "source": [
    "first_page = pdf.pages[0]\n",
    "print(first_page.extract_text())"
   ]
  },
  {
   "cell_type": "markdown",
   "metadata": {},
   "source": [
    "Let's try to make in on a loop: it has to go from 0 to the total number of pages of the pdf."
   ]
  },
  {
   "cell_type": "code",
   "execution_count": 28,
   "metadata": {},
   "outputs": [
    {
     "name": "stdout",
     "output_type": "stream",
     "text": [
      "MORPHOLOGY, SYSTEMATICS, EVOLUTION\n",
      "The Chewing Lice (Insecta, Phthiraptera) Fauna of the\n",
      "Swainson’s Warbler, Limnothlypis swainsonii (Aves, Parulidae)\n",
      "MICHELP.VALIM1,2ANDBRYANM.REILEY3,4\n",
      "J.Med.Entomol.52(5): 850–857(2015);DOI:10.1093/jme/tjv110\n",
      "PublishedonlineAugust6,2015\n",
      "ABSTRACT We examined Swainson’s warblers (Limnothlypis swainsonii (Audubon, 1834), Aves:\n",
      "Parulidae)forlicefaunaduring2yratthreestudysitesinArkansas,USA.Atotalof66individualswere\n",
      "examined;eightbirds(10.6%)wereparasitizedwith16liceoftwonewspeciesbelongingtotwogenera\n",
      "MyrsideaWaterson,1915(Amblycera:Menoponidae)andBrueeliaKe´ler,1936(Ischnocera:Philopteri-\n",
      "dae).ParasitologicalparameterdataaregivenontheprevalenceofliceonSwainson’swarblers.Species\n",
      "descriptionsandillustrationsareprovidedforMyrsideabensonisp.nov.andBrueelialimnothlypiaesp.\n",
      "nov.;includingakeyforfemalesofthegenusMyrsideathatparasitizeParulidae(Passeriformes).\n",
      "KEYWORDS Brueelia,Myrsidea,Swainson’swarbler,newspecies,USA\n",
      "There are only 18 species of chewing lice described MaterialandMethods\n",
      "from warblers of the family Parulidae (Aves: Passeri-\n",
      "Study Area. We conducted field work during the\n",
      "formes) (Price et al. 2003, Kounek et al. 2011). In\n",
      "spring and summers of 2009 and 2010 at three study\n",
      "North America, there are four recognized genera of\n",
      "sites in Arkansas: Big Island, Saint Francis National\n",
      "chewing lice with species described on birds from the\n",
      "Forest, and White River National Wildlife Refuge as\n",
      "family Parulidae: Brueelia Ke´ler, 1936 (Ischnocera,\n",
      "partofabroaderstudyevaluatingtheeffectsofaflood\n",
      "Philopteridae), Menacanthus Neumann, 1912, Myrsi-\n",
      "ontheSwainson’swarbler(Reiley2011).\n",
      "dea Waterston, 1915 (Amblycera, Menoponidae), and\n",
      "BigIsland(33(cid:2) 53’35.4732”N;91(cid:2) 05’32.1469”W)is\n",
      "Ricinus DeGeer, 1778 (Amblycera, Ricinidae) (Price\n",
      "alargeisland(9,700ha)boundedbytheWhiteRiverto\n",
      "et al. 2003). From these genera, only one species was\n",
      "thenorth,theArkansasRivertothewest,andtheMis-\n",
      "described in the genus Brueelia—B. interposita (Kel-\n",
      "sissippi River to the east. The island was owned by a\n",
      "logg, 1899)—from two species of Dendroica (Kellogg\n",
      "forest-products company, Anderson-Tully, which har-\n",
      "1899, Cicchino 1983) and five species were described\n",
      "vested timberthereyearly;thisresultedinhabitatthat\n",
      "in the genus Myrsidea from warbler hosts (Palma and\n",
      "was a mosaic of different age stands of bottomland\n",
      "Price2010,Kouneketal.2011).\n",
      "hardwood forest. Dominant trees and understory\n",
      "Thepurposeofthispaperistodescribetwospecies\n",
      "shrubsinareasoccupiedbySwainson’swarblersatBig\n",
      "ofchewinglicefoundontheSwainson’swarbler—Lim-\n",
      "IslandwassimilartoWhiteRiverNWR(Bensonetal.\n",
      "nothlypisswainsonii(Audubon,1834),amonotypicge-\n",
      "2009).\n",
      "nusofthe familyParulidae—composed bytwospecies\n",
      "Saint Francis National Forest (34(cid:2) 36’16.8084” N;\n",
      "ofthe genera MyrsideaandBrueelia,describedbelow.\n",
      "90(cid:2) 36’40.2357” W) is a 9,100-ha mix of upland forest\n",
      "Uptothepresent,therearenorecordsofanychewing\n",
      "and bottomland forest located at the southern tip of\n",
      "licefromtheSwainson’swarbler(Priceetal.2003).We\n",
      "Crowley’s Ridge. It was located in Lee and Phillips\n",
      "also provide a key for identification of females of spe-\n",
      "countiesinsoutheasternArkansas andbordered tothe\n",
      "ciesofMyrsideaparasitizingParulidae.\n",
      "east by the St. Francis and Mississippi rivers. Areas\n",
      "occupied by Swainson’s warblers in Saint Francis\n",
      "National Forest were along streams in upland areas\n",
      "and in swamps within bottomland hardwood forest\n",
      "(Anichetal.2009).\n",
      "White River National Wildlife Refuge (34(cid:2)\n",
      "01’12.5148”N;91(cid:2) 05’37.4506”W)isoneofthelargest\n",
      "1MuseudeZoologiadaUSP,Av.Nazare´,481,Ipiranga,Sa˜oPaulo, contiguous tracts (64,800ha) of remaining bottomland\n",
      "SP04263-000,Brazil.\n",
      "2Correspondingauthor,e-mail:mpvalim@hotmail.com. hardwoods in the southeastern United States (Twedt\n",
      "3Department of Biological Sciences, Arkansas State University, and Loesch 1999). Swainson’s warblers at White River\n",
      "P.O.Box599,Jonesboro,AR72467. National Wildlife Refuge generally occupied relatively\n",
      "4Presentaddress:IllinoisNaturalHistorySurvey,PrairieResearch higher elevation, less flood-prone areas (Benson et al.\n",
      "Institute,UniversityofIllinois,1816SouthOakSt.,Champaign,IL\n",
      "2011,Reileyetal.2013).\n",
      "61820.\n",
      "VCTheAuthors2015.PublishedbyOxfordUniversityPressonbehalfofEntomologicalSocietyofAmerica.\n",
      "Allrightsreserved.ForPermissions,pleaseemail:journals.permissions@oup.com\n",
      "September2015 VALIMANDREILEY:CHEWINGLICEOFTHESWAINSON’SWARBLER 851\n",
      "Capture Technique and Lice Sampling. Birds SuborderAMBLYCERAKellogg,1896\n",
      "were captured using targeted mist netting with song\n",
      "FamilyMENOPONIDAEMjo¨berg,1910\n",
      "playbacksandfittedwithametalUnitedStatesGeolog-\n",
      "ical Survey band as well as a unique combination of GenusMyrsideaWaterston,1915\n",
      "three-colorbandsundermasterbanderpermitnumber Type species: Myrsidea victrix Waterston, 1915, by\n",
      "#21426. The host common and scientific names follow originaldesignation.\n",
      "Dickinson andChristidis (2014). Once a birdwas cap-\n",
      "turedandbanded,weutilizedadustrufflingtechnique\n",
      "described by Clayton and Walther (1997). Lice were\n",
      "Myrsideabensonisp.nov.\n",
      "fixedina90%ethanolsolution.Eachbirdwashandled\n",
      "no more than 15min to minimize stress and any bird Typehost:Limnothlypisswainsonii(Audubon,1834)\n",
      "exhibiting gaping or closed eyes was immediately Myrsideabensonisp.nov.ismorphologicallycloseto\n",
      "releasedtominimizedirectmortalities. M. paleno Kounek & Sychra, 2011; they are the only\n",
      "Lice Study. The specimens studied are deposited species of Myrsidea parasitizing Parulidae that present\n",
      "in the Museu de Zoologia da Universidade de Sa˜o only a small modification on the posterior margin of\n",
      "Paulo(MZUSP),withauniqueidentifiernumberfrom tergite I. Both sexes can be distinguished by the head\n",
      "the SophiA database for the Phthiraptera collection. shape(Fig.1A).Inaddition,femalesofthenewspecies\n",
      "Lice were permanently slide-mounted in Canada bal- tendtobesmallerandpresentfewersetaeinsomeseg-\n",
      "sam, following the technique in Palma (1978). Termi- ments. The new species have tergites II–V with 7–12\n",
      "nology, chaetotaxy, and nomenclatures for each lice setae each (vs M. paleno with 12–14 setae); sternites\n",
      "family follows thatofClay(1966)and ratifiedinValim IV–V with 7–9 setae (vs M. paleno with 12–13 setae).\n",
      "and Weckstein (2013) for the Menoponidae; and fol- And males have the tendency to possess 3 setae on\n",
      "lows that of Clay (1951) and reinterpreted by Mey each aster, like in M. ridulosa (Kellogg & Chapman,\n",
      "(1994), as wellas Cicchinoand Castro(1996), andthe 1899)(femaleshave4andmales3ofthesesetae),their\n",
      "head dorsal sensilla after Valim and Silveira (2014) for genitaliaarequitesimilartothatpresentinM.paleno,\n",
      "thePhilopteridae. except for the genital sclerite which has a rounded tip\n",
      "Allmeasurementsareinmillimetersandweretaken (apparentlyenlargedandgrosslybilobedinM.paleno).\n",
      "from digitized images from slide-mounted specimens Type Material. HOLOTYPE: Female (MZUSP\n",
      "using the software Leica Application Suite (LAS), #6349), ex host #1911-26228, Big Island, Arkansas,\n",
      "linkedinto a LeicaBM500a microscope. Abbreviations USA, 27 Jun. 2009, B.M. Reiley col. PARATYPES:1-\n",
      "for bodyfeatures measured in new species description male(MZUSP#6353),exhost#1601-63324,BigIsland,\n",
      "are:AW,abdominalwidth(atlevelofsegmentIV);GL, Arkansas,USA,27Jun.2009,B.M.Reileycol.1nymph\n",
      "male genitalia total length; HL, head length (at mid- I (MZUSP #6357), same data except, ex host #1601-\n",
      "line);MTW,metathoraxwidth(atitsposteriorandwid- 63326. 2 males, 1 female, 1 nymph I, 1 nymph II, 1\n",
      "est level); PAW, preantennal width (at level of dorsal nymphIII(MZUSP#6356),exhost#1911-26419,Saint\n",
      "head seta 10 in Menoponidae and at preconal seta in Francis National Forest, Arkansas,USA, 30 Jun.2009,\n",
      "Philopteridae); PL, paramere length; PW, prothorax J. Everitts col. 1 female (MZUSP #6350), same data\n",
      "width; TL, total length (including the anal fringe, not except, ex host #1911-26630, Saint Francis National\n",
      "its setae, in females of Menoponidae); TW, temporal Forest, 10 Jun. 2009. 1 female (MZUSP #6351), ex\n",
      "width (at level of dorsal head seta 29 in Menoponidae host #1601-63309, White River National Wildlife Ref-\n",
      "andatmarginaltemporalseta2inPhilopteridae). uge, Mellwood, Arkansas, USA, 22 Jun. 2009, B.M.\n",
      "Reileycol.\n",
      "Female. Species uniformly brownish in color,\n",
      "Results\n",
      "thorax and abdomen as in Fig. 1B. Head. Head as in\n",
      "A total of 66 individual Swainson’s warblers were Fig.1A(dashedline),withtempleshortandtruncated.\n",
      "examined,witheightindividuals(10.6%)parasitizedby Dorsal head seta 10 (dhs10), 0.046–0.058 long; dhs11,\n",
      "two new species belonging to each suborder of bird 0.084–0.100long,ratiodhs10/110.5–0.6.Hypopharynx\n",
      "lice,oneskinlouse(ofthegenusMyrsidea,Amblycera) fully developed, ls5 0.05–0.06, ventrolateral fringe, 10\n",
      "and one feather-louse (of the genus Brueelia, setae(onespecimenwith11ononeside).Gulawith4\n",
      "Ischnocera). Both species are described and named setae on each side, most posterior longest. Thorax.\n",
      "below. Metanotum with posterior margin nearly straight,with\n",
      "The rate of infestation of both lice species was very 6 setae (one specimen with 8) on posterior margin;\n",
      "low (1–10 lice per bird). Eleven specimens of metapleurawith3setae(rarely2inoneside);metaster-\n",
      "Myrsidea were sampled from six birds (x¼1.862.0, nal plate each side with 2–3 setae. First tibia with 3\n",
      "range¼1–6, males¼36%, females¼36%, and and 4 (rarely 5) outer lateral ventral and dorsal setae,\n",
      "immatures¼28%)andfivespecimensofBrueeliawere respectively. Setae of femoral brush, 12–15 (Fig. 1B).\n",
      "sampled from two birds (x¼2.560.70, range¼2–3, Abdomen. Tergite I with small convexity on posterior\n",
      "males¼27%,adults¼100%). margin, tergite II only slightly pushed posteriorly\n",
      "(Fig. 1B), tergites III–VIII regular in shape. Spiracles\n",
      "III-VIIIwithoneverysmallmedialpaleareaconspicu-\n",
      "Systematics\n",
      "ouslypresentandrepresented inFigs 1B,Fasa ‘dot’,\n",
      "OrderPHTHIRAPTERAHaeckel,1896 in tergites I and II theseareasare less discernible but\n",
      "852 JOURNALOFMEDICALENTOMOLOGY Vol.52,no.5\n",
      "Fig.1. (A)HeadoutlinesofMyrsideabensonisp.nov.(dashedline)andMyrsideapalenoKounekandSychra,2011(full\n",
      "line);(B)Femalemeso-metathoraxandabdomenindorso-ventralviews;(C–E)Spermathecaofthreeindividuals,ps—pellets\n",
      "ofspermatozoids;(F)Malemeso-metathoraxandabdomenindorso-ventralviews;(G)Malegenitaliainventro-dorsalviews;\n",
      "(H)Malegenitalsclerite.\n",
      "present.Withonemediangapineachtergalsetalrow. VandVI;long(0.18–0.24)onIandVII,andverylong\n",
      "No anterior setae on tergites, tergal posterior setae: I (0.32–0.48) on II, IV, and VIII. Anterior row of setae\n",
      "10–11,II9–12,III8–12,IV7–9,V7–8,VI4–5,VII4, absentonsternites,sternalsetae:I0,IIeachasterof4\n",
      "VIII4.Postspiracularsetaeshortest(0.14–0.17)onIII, spine-like setae (one specimen with 3 in one side),\n"
     ]
    },
    {
     "name": "stdout",
     "output_type": "stream",
     "text": [
      "September2015 VALIMANDREILEY:CHEWINGLICEOFTHESWAINSON’SWARBLER 853\n",
      "posterior margin with 12–14 and anteriorly with 3–4 anterolateral minute setae each side. Metapleura\n",
      "(onespecimenwith1seta),III17–25,IV22–28,V25– lacking setae. First tibia with 4 dorsal and 3 ventral\n",
      "29, VI 20–22, VII 11–14. Pleurites without anterior setae. Femoral brush with 7 setae (rarely 8 in one\n",
      "setae,pleuralposteriorsetae:I5–6,II6–9,III4–7,IV side). Tergites I–VIII with 4 setae (counting as for\n",
      "5–7,V5–6,VI4–6,VII3–4.TergiteIXwithinnerpos- adults). Abdomen. Tergites I–VIII composed by one\n",
      "terior seta set at level between the long seta and longitudinal lateral (short) andonelongitudinal medial\n",
      "the midline of segment, 0.05–0.08 long. Genitalia. (medium long) rows of abdominal setae. Sternite I\n",
      "Subgenital plate with 7–10 setae; vulvar margin without seta, in sternite II aster absent in lateral cor-\n",
      "spiculated, and nearly straight and with 7–12 setae. ners; chaetotaxy restricted to double pairs of short\n",
      "Anus with 32–35 ventral fringe setae, 26–29 dorsal. antero-lateral setae, and one pair of longer setae on\n",
      "Spermatheca pear-shaped or spherical with thickened anterior portion of segment. Sternites III with 6 setae,\n",
      "rim (Fig. 1C-E), some individuals with many rod- IV–VIIwith8setae,VIII–IXwith4.Pleuralchaetotaxy:\n",
      "shapedpelletsofspermatozoidsinside(Fig.1D–E). I1,II2,III–VII 3. Tergal andsternalchaetotaxyasin\n",
      "Measurements (n¼4). HL 0.29–0.31, PAW 0.32– Fig.2A.\n",
      "0.34, OW 0.41–0.44, PW 0.25–0.27, PSPL 0.10, MTW Measurements (n¼2). HL 0.23–0.25; PAW 0.25;\n",
      "0.35–0.40, MSPL 0.14–0.16, AWIV 0.46–0.55, ANW TW0.29–0.30; PW 0.18–0.19; PTW 0.22–0.25; AW\n",
      "0.17–0.18,TL1.31–1.39. 0.27–0.32;TL0.79–0.80.\n",
      "Male. Colorationasinfemale,thoraxandabdomen NymphII. Bodyentirelywhitish,thorax andabdo-\n",
      "as in Fig. 1F. Head. Head as in Fig. 1A, with temple men as in Fig. 2B. Head. Ratio of dhs10/11 0.8. Lat-\n",
      "short and truncated. Dorsal head seta 10, 0.044–0.049 ero-ventralfringewith8setaeineachside.Gularplate\n",
      "long; dhs11, 0.071–0.094 long, ratio dhs10/11 0.5–0.6. with3þ2setae,posteriorpairlonger.Thorax.Proster-\n",
      "Hypopharynx fully developed, ls5 0.04–0.05, ventrolat- num and mesosternum without setae, metasternum\n",
      "eralfringe,10setae.Gularplatewith4setaeeachside, with 2. Pronotum with 6 posterior setae, each lateral\n",
      "most posterior the longest. Thorax. Metanotum with cornerwith3shortsetae.Metanotumasinfirstnymph.\n",
      "4–5 setae on posterior margin; metapleura with 1–3 Metapleura with 2 short spiniform setae. First tibia\n",
      "setae;metasternalplatewith2–3setaeeachside(rarely with 4 dorsal and 3 ventral setae. Femoral brush with\n",
      "1inoneside).Firsttibiawith3and4outerlateralven- 9–10 setae. Abdomen. Tergal chaetotaxy as in first\n",
      "tral and dorsal setae, respectively. Setae of femoral nymph.SterniteIwithoutseta,insterniteIIasterrudi-\n",
      "brush,10–12.Abdomen.Noanteriorsetaeontergites, mentaryinlateralcorners;composedbytwospiniform\n",
      "tergal posteriorsetae: I5–6,II6–7,III7–8,IV6–7, V setae;posteriormarginwith5mediumlongsetae,plus\n",
      "6, VI 4–5, VII 4, VIII 4. With distinct median gap in oneanteriorseta.SternitesIII–VIwith12,VII9,VIII–\n",
      "each tergal setal row; tergal setae of similar length IX4setae.Pleuralchaetotaxyasinfirstnymph,except\n",
      "reaching alveoli of next tergal row, except for those for segment I with 2 setae. Tergal and sternal chaeto-\n",
      "more lateral smaller and never reaching the next row. taxyasinFig.2B.\n",
      "Postspiracularsetaeasforfemale.Patternofchaetotaxy Measurements (n¼1). HL 0.23; PAW 0.26; TW\n",
      "of tergites and sternites as in Fig. 1F. Sternites 0.30;PW0.20;MTW0.27;AW0.36;TL0.90.\n",
      "without anterior setae, sternal posterior setae: I 0, II NymphIII. Bodyentirelywhitish,thoraxandabdo-\n",
      "eachasterof3spine-likesetae(onespecimenwith4in men as in Fig. 2C. Head. Ratio of dhs10/11 0.6. Lat-\n",
      "one side), posterior margin with 8–10 and anteriorly ero-ventral fringe with 8 setae. Gular plate with 4þ3\n",
      "with 1–2, III 16–17, IV 18–22, V 20–25, VI 20–24, setae, posterior pair longer. Thorax. Prosternum and\n",
      "VII 9–13. Pleurites without anterior setae, pleural mesosternum without setae, metasternum with 4. Pro-\n",
      "posterior setae: I 3–4, II 4–5, III 5, IV 4–6, V 4–5, VI notumasinnymphII.Metanotumchaetotaxyasinfirst\n",
      "4, VII 3–4. Tergite IX with inner posterior seta, nymph. Metapleura with 2 spiniform setae. First tibia\n",
      "0.05–0.07 long. Anus with 8 internal setae on ventral with 4 dorsal and 3 ventral setae. Femoral brush with\n",
      "side,and4ondorsal.Genitalia.Subgenitalplate with 11setae.Abdomen.Tergalchaetotaxy:alltergiteswith\n",
      "11–12 setae. The entire genitalia in ventro-dorsal 4 setae, except tergites II and III with 5 and 6 setae,\n",
      "viewsasinFig.1G,anddetailsofmalegenitalsclerite respectively.SterniteIwithoutseta,insternite IIaster\n",
      "inFig.1H. rudimentary in each lateral corner, with 3 spine-like\n",
      "Measurements (n¼3). HL 0.27–0.28, PAW 0.29– setae; posterior margin with 7 setae and one single\n",
      "0.30, OW 0.36–0.38, PW 0.23–0.24, PSPL 0.09, MTW anterior seta present. Sternites III 12, IV 15, V 17, VI\n",
      "0.31–0.32, MSPL 0.11–0.12, AWIV 0.39–0.40, GL 14, VII 8, VIII–IX 4 setae. Pleural chaetotaxy: I 3,\n",
      "0.35–0.37,GSL0.07,TL1.07–1.13. II–VI, 4, VII 3. Tergal and sternal chaetotaxy as in\n",
      "Nymph I. Body entirely whitish, thorax and abdo- Fig.2C.\n",
      "men as in Fig. 2A. Head. Ratio of dhs10/11 0.8–0.9. Measurements (n¼1). HL 0.24; PAW 0.28; TW\n",
      "Latero-ventral fringe with 8 setae. Gular plate lacking 0.35;PW0.22;MTW0.30;AW0.40;TL1.00.\n",
      "setae. Thorax. Prosternum and mesosternum without Etymology. In recognition of his mentorship to B.\n",
      "setae (except for minute pair antero-lateral, always ReileyandimportantworkwiththeSwainson’swarbler,\n",
      "presentinMenoponidae),metasternumwith2medium this species is named in honor of Thomas J. Benson\n",
      "long setae. Pronotum with 4 posterior setae, each (IllinoisNaturalHistorySurvey,USA).\n",
      "antero-lateral corner with 1 short setae. Metanotum Discussion. Withthedescriptionofcompletenym-\n",
      "with one outermost long setae, one short, and one phal series of M. bensoni sp. nov., we are able to con-\n",
      "medium long posterior setae each side; three firm some morphological evidence about the\n",
      "854 JOURNALOFMEDICALENTOMOLOGY Vol.52,no.5\n",
      "Fig.2. NymphsofMyrsideabensonisp.nov.(A) NymphI,meso-metathoraxandabdomenin dorsoventralviews;(B)\n",
      "NymphII,meso-metathoraxandabdomenindorsoventralviews;(C)NymphIII,meso-metathoraxandabdomenindorso\n",
      "ventralviews.\n",
      "ontogenetic development of the species of the genus presence of setae on metapleura of thorax; 4) anterior\n",
      "Myrsidea. Recently, Valim and Cicchino (2015) setaeonsterniteII.\n",
      "described the first complete series of nymphs for one Characters Exclusive of all Nymphs. —1)\n",
      "species of this genus, M. daleclaytoni Valim and Cic- metathoracic chaetotaxy composed each side by one\n",
      "chino, 2015, and thus this species will be used as a laterallongseta,onesmallsublateral,plusonemedium\n",
      "basisofmorphologicalcomparisonwithourM.bensoni longsizedsetasetnearmidlineofmetathorax(seeFig.\n",
      "sp.nov.Basedontheimmaturestagesofthesetwospe- 2A–C,andalsoValimandCicchino2015:Figs.50–52).\n",
      "cieswecanconclude—\n",
      "CharactersExclusiveofFirstNymph. —1)nosetaeon\n",
      "gula;2)pronotumwithonlyfourlongsetaeonitspos-\n",
      "terior margin; 3) absence of two small antero-lateral IdentificationKeyforFemalesofMyrsidea\n",
      "setae on each side of pronotum; 4) no setae on meta- (Menoponidae)ParasiticonParulidae\n",
      "pleura inthorax;5) noaster on sterniteII; 6)one pair (Aves,Passeriformes)\n",
      "of long setae on sternite II (reminiscent for those of\n",
      "posteriormargin). 1a Thorax with metanotum not enlarged; posterior\n",
      "Characters Exclusive of Second Nymph. —1) only marginofabdominaltergiteIroughlystraight.......2\n",
      "twosetaeoneachsideofasteronsterniteII. 1bThorax with metanotum posteriorly enlarged;\n",
      "Characters Exclusive of Third Nymph. —1) three posterior margin of abdominal tergite I conspicu-\n",
      "setaeoneachsideofasteronsterniteII;2)presenceof ouslytaperedmedially.......M.zeledoniKounek&\n",
      "theintermediatelongitudinalrowsofsetaeonfirstter- Sychra,2011\n",
      "gites(I–IV). 2a Margin posterior of abdominal tergites II and III\n",
      "CharactersExclusiveofFirstandSecondNymphs. — roughlystraight,oratmostwithaslightlyandnon-\n",
      "1) one longitudinal medial row of long setae, plus one pronouncedconvexity..............................................3\n",
      "longitudinallateralrowofshortofsetae. 2bMargin posterior of abdominal tergites II\n",
      "Characters Exclusive of Second and Third and III with pronounced medioposterior\n",
      "Nymphs. —1) gula with setae; 2) presence of the two convexity...M.myioboriKounek&Sychra,2011\n",
      "smallantero-lateralsetaeoneachsideofpronotum;3) 3aAbdominaltergitesI–IIunmodified.......................4\n"
     ]
    },
    {
     "name": "stdout",
     "output_type": "stream",
     "text": [
      "September2015 VALIMANDREILEY:CHEWINGLICEOFTHESWAINSON’SWARBLER 855\n",
      "3bAbdominal tergites I–II with slightly convexity on seta,preconalseta,preantennalseta,anteriorsetae1–2\n",
      "posteriormargin.......................................................5 (as1–2), ocular seta, preocular setae, mts1–2,\n",
      "4aPost-spiracularsetaonsegmentsV–VIIshorterthen andmts4–5.Postemporalsetaesensiliformbutpresent,\n",
      "on IV, sub equal in length; sternite II with (cid:3) 9 s1-s3present,andbothas3andpostnodalsetaeabsent.\n",
      "setaeanteriorly; vulvar margin with 12 Head dorso-ventral chaetotaxy as in Fig. 3B. Thorax.\n",
      "setae.....M.ridulosa(Kellogg&Chapman,1899) Pro- and pterothoracic apodema deeply pigmented,\n",
      "4bPost-spiracularsetaonsegmentVIIlongerthanon brownish. Meso- and metasternal plates sub-pyriform,\n",
      "V–VI; sternite II with(cid:4)5 setae anteriorly; longer than wide, weakly pigmented. Posterior margin\n",
      "vulvarmarginwith7–8setae............M.basileuteri of pterothorax lacking pigmentary margination, with 5\n",
      "Kounek&Sychra,2011 setae interspersing one longer and one smaller each\n",
      "5a Head shape as in Fig. 1 (dashed line); tergite IV side (in addition to one spine-like and one trichoid\n",
      "andVwith7–9setae................M.bensonisp.nov. setae, each side). Abdomen. Terga II–VIII lightly and\n",
      "5b Head shape as in Fig. 1 (full line); tergite IV uniformly pigmented, except for lateral parts corre-\n",
      "andVwith12–13setae........M.palenoKounek& sponding to pleurites. Paratergal chaetotaxy: II–III 0,\n",
      "Sychra,2011 IV–VII 1 (rarely 2 in one side of IVor VII). Sternites\n",
      "on III–VI and subgenital plate entirely brownish and\n",
      "uniformly pigmented. Tergal chaetotaxy, each side:\n",
      "SuborderISCHNOCERAKellogg,1896\n",
      "postspiracular long present on VI–VII (rarely on V in\n",
      "FamilyPHILOPTERIDAEBurmeister,1838 one side); smaller and thinner accessory setae also\n",
      "present on VI–VII; 1–3 small posterior tergal setae on\n",
      "BrueeliaKe´ler,1936 VII–VIII, and one small sutural seta on V–VIII. Geni-\n",
      "Typespecies:BrueeliarossittensisKe´ler,1936(¼Nir- talia. Basal plate not greatly developed, with irregular\n",
      "lateral borders, straight and long subtriangular para-\n",
      "mus brachythorax Giebel, 1874), by original\n",
      "mera (Fig. 3D); lateral sclerites of endomeral complex\n",
      "designation.\n",
      "with theirposterioredge taperedandcorrugated,with\n",
      "1–2sensilaeeachside;roundedsclerotizedringofgon-\n",
      "oporewithisposteriortipsdistinctlypointed(Fig.3D).\n",
      "Brueelialimnothlypiaesp.nov.\n",
      "Measurements (n¼2). HL 0.31–0.33, PAW 0.19–\n",
      "Typehost:Limnothlypisswainsonii(Audubon,1834) 0.20, TW 0.24, PW 0.15–0.16, MTW 0.21–0.22, AW\n",
      "There is only one species of Brueelia described in 0.31–0.32,TL1.27,GL0.13,PL0.03.\n",
      "Parulidae; it is Brueelia interposita (Kellogg, 1899). Female. General habitus as in Fig. 3E, with body\n",
      "Females differ by their general habitus, being slender index 4.4.Structures and pigmentation of head, thorax\n",
      "in B. limnothlypiae sp. nov. (body index 4.4) and andabdomenmuchasformale,differinginbodysize,\n",
      "stouter in B. interposita (body index 3.4). In addition, abdominal terminalia, and tergal chaetotaxy. One long\n",
      "the preantennal shape of Brueelia limnothlypiae sp. postspiracular seta on VI–VII. Tergite VIII with tri-\n",
      "nov. is diagnostic and differs grossly from that of choid lateral seta and 2 pleural setae. Pleural chaeto-\n",
      "B. interposita, the preantennal region is triangular in taxy as for male. Tergal plate IXþX with uniformly\n",
      "the new species (cephalic index 1.7, see Fig. 3C, pigmented, brownish, and tergites XI unpigmented.\n",
      "dashed line), while in B. interposita it is roughly Genitalia.Subgenitalplateuniformly pigmented,with\n",
      "rounded(cephalicindex0.9,seeFig.3C,fullline). “cross-piece” entirely fused with sternite IX, and 1–3\n",
      "The entirely brownish body habitus makes B. lim- small setae each side (Fig. 3F). Gonapophysis com-\n",
      "nothlypiaesp.nov.promptlydistinctfromotherspecies monly with 3 setae (one aberrant female with 1þ4)\n",
      "of Brueelia with slender bodies and that live on other (Fig.3F).Vulvarmarginwith7–10shortandspiniform\n",
      "passerines than warblers (e.g., Cicchino and Castro setaeand5–8longerandfiner(Fig.3F).\n",
      "1996,ValimandPalma2006,PalmaandPeck2013). Measurements (n¼3). HL 0.32–0.36, PAW 0.19–\n",
      "Type Material. HOLOTYPE: Male (MZUSP 0.21, TW 0.24–0.26, PW 0.16–0.18, MTW 0.21–0.24,\n",
      "#6358), host #1601-63327, Big Island, Arkansas, USA, AW0.31–0.35,TL1.35–1.47.\n",
      "29 Jun. 2009, B.M. Reiley col. PARATYPES: 2 fema- Etymology. The specific epithet is taken from the\n",
      "les(MZUSP#6359–60), same dataas holotype. 1male, generic name of the host; it is a noun in the genitive\n",
      "1 female (MZUSP #6361–62), host #1601-63312, Big case.\n",
      "Island,Arkansas,USA,25Jun.2009,B.M.Reileycol. Discussion. The type series for B. interposita is\n",
      "Male. General habitus as in Fig. 3A, very slender composed by 3 females syntypes (Kellogg, 1899), from\n",
      "withbodyindex4.1.Head.Conicshaped(Figs13and Dendroica petechia aequatorialis Sundeval (fide Car-\n",
      "14,dashedline),almosttwiceaslongaswide(cephalic riker, 1957). Although it was confirmed by Carriker\n",
      "index 1.6–1.7), temporal margin nearly rounded (1957), this same author writes after such confirmation,\n",
      "(Fig.3B).Preantennalmarginstraightandconvergent; choose“thebestmaleonslideNo.470a...”whiledes-\n",
      "marginal carina thickened with its inner edge weakly ignating the lectotype for this species (Palma and Peck,\n",
      "sinuate and dark brownish pigmented. Frontoclypeal 2013). In this same paper Carriker, (1957) said that the\n",
      "sutureentirelybrownish.Gularplaterhombicinsilhou- condition of specimens prevented a good study of the\n",
      "ette, uniformly brownish pigmented. Marginal tempo- headindetail,buthedidnotsayanythingaboutdistor-\n",
      "ral carina pigmented up to level of marginal temporal tiononpreparations.Infact,someoftheKellogg’sspeci-\n",
      "setae 4 (mts4). Head setae quite short: anterior dorsal mens need to be remounted because they were not\n",
      "856 JOURNALOFMEDICALENTOMOLOGY Vol.52,no.5\n",
      "Fig.3. Brueelialymnothlypiaesp.nov.(A)Malehabitusindorso-ventralviews;(B)Maleheadindorso-ventralviews;\n",
      "(C)HeadoutlinesofBrueelialymnothlypiaesp.nov.(dashedline)andBrueeliainterposita(Kellogg,1899)(fullline);(D)Male\n",
      "genitaliaindorsalview;(E)Femalehabitusindorso-ventralviews;(F)Femaleterminaliaindorso-ventralviews.\n",
      "macerated,butarestillinreasonableshape(M.P.Valim our comparison. In addition, is not surprising for us to\n",
      "personal observation), which could be the case of types find two species of Brueelia with such distinct head\n",
      "forB.interposita.Duetothis,wearecertainoftheout- shapes (slender vs stouter) on Parulidae. We have seen\n",
      "lineofthehabitus,includingitshead,forthepurposeof the same thing in samples (M. P. Valim, unpublished\n",
      "September2015 VALIMANDREILEY:CHEWINGLICEOFTHESWAINSON’SWARBLER 857\n",
      "data) from South American warblers, including individ- Clay,T.1951.Anintroductiontoaclassificationoftheavian\n",
      "ualhostswithbothspeciesoccurringinsynoxenism. Ischnocera (Mallophaga): Part I. Trans. R. Entomol. Soc.\n",
      "Regarding the data presented by Cicchino (1983), Lond.102:171–195.\n",
      "we agree with that author and accept with reservation Clay, T. 1966. Contributions towards a revision of Myrsidea\n",
      "Waterston I. (Menoponidae: Mallophaga). Bull. Br. Mus.\n",
      "the name B. interposita for the specimens from Seto-\n",
      "Nat.Hist.Entomol.17:327–395.\n",
      "phaga pensylvanica (L.) (Parulidae). Additionally\n",
      "Clayton, D. H., and B. A. Walther. 1997. Collection and\n",
      "B.interpositahasalsobeenfoundonatleastninehost\n",
      "quantificationofarthropodparasitesofbirds,pp.419–440.In\n",
      "species,mostofthempasserinesofthefamilyEmberi- D.H.ClaytonandJ.Moore(eds.),Host-parasiteevolution:\n",
      "zidae, in an island environment (see Palma and Peck, General principles and avian models. Oxford University\n",
      "2013), but after Cicchino (1983) no morphological press,Oxford,UnitedKingdom.\n",
      "work has dealt with this species. The chaetotaxy pre- Dickinson,E.C.,andL.Christidis.2014.TheHowardand\n",
      "sentedbyKellogg(1899)doesnotfitwiththosespeci- Moorecompletechecklistofthebirdsoftheworld.4thEd.\n",
      "mens studied by Cicchino (1983). On the other hand, Vol.2Passerines.AvesPress,Eastbourne,UnitedKingdom.\n",
      "Kellogg, V. L. 1899. New Mallophaga III. Mallophaga from\n",
      "thepreantennalregiondepictedfor“B.interposita”by\n",
      "birds of Panama, Baja California and Alaska. Occas. pap.\n",
      "Cicchino(1983)agreesmuchmorewiththatpresented\n",
      "Calif.Acad.Sci.6:3–52.\n",
      "by Kellogg (1899) than as presented in both sexes of\n",
      "Kellogg,V.L.,andB.L.Chapman.1899.Mallophagafrom\n",
      "B.Limnothlypiaesp.nov. birdsofCalifornia.Occas.pap.Calif.Acad.Sci.6:53–143.\n",
      "Kounek, F., O. Sychra, M. Capek, and I. Literak. 2011.\n",
      "ChewingliceofthegenusMyrsidea(Phthiraptera:Menopo-\n",
      "Acknowledgments\n",
      "nidae)fromNewWorldwarblers(Passeriformes:Parulidae)\n",
      "fromCostaRica,withdescriptionsoffournewspecies.Zoo-\n",
      "ThanksareduetoOldrˇichSychraforhisfruitfuldiscussion\n",
      "taxa3137:56–63.\n",
      "andopinionabouttheidentityofthenewspeciesofMyrsidea\n",
      "Mey, E. 1994. BeziehungenzwischenLarvenmorphologie und\n",
      "describedherein.WeareespeciallythankfultoJamesC.Bed-\n",
      "Systematik der Adultibei den Vogel-Ischnozeren (Insecta,\n",
      "narzforhissupportandforstartingtheprojectinArkansas\n",
      "Phthiraptera,Ischnocera).Mitt.Zool.Mus.Berl.70:3–84.\n",
      "thatledtothisresearch.WeareindebtedtoJ.Everittsforhis\n",
      "Palma,R.L.1978.Slidemountingoflice:Adetaileddescription\n",
      "contribution to the samples used in this research. We also\n",
      "oftheCanadaBalsamtechnique.N.Z.entomol.6:432–436.\n",
      "thankA.Overfield,S.Rune,andA.Beelerfortheirassistance\n",
      "Palma,R.L.,andR.D.Price.2010.ThespeciesofMyrsidea\n",
      "in the field and two anonymous referees, whose valuable\n",
      "Waterston (Insecta: Phthiraptera: Menoponidae) from the\n",
      "comments greatly improved our early version of this manu-\n",
      "GalapagosIslands,withdescriptionsofnewtaxa.Tuhinga.21:\n",
      "script. This study was partially supported by FAPESP—Sa˜o\n",
      "135–146.\n",
      "PauloResearchFoundation,Brazil(MPV:2011/11420-5and\n",
      "Palma,R.L.,andS.B.Peck.2013.Anannotatedchecklistof\n",
      "2012/06951-4)andthefieldportionofthestudywasprovided\n",
      "parasitic lice (Insecta: Phthiraptera) fromthe Gala´pagos Is-\n",
      "bytheU.S.FishandWildlifeService.\n",
      "lands.Zootaxa3627:1–87.\n",
      "Price,R.D.,R.A.Hellenthal,andR.L.Palma.2003.World\n",
      "ReferencesCited checklist of chewing lice with host associations and keys to\n",
      "familiesandgenera,pp.1–448,InR.D.Price,R.A.Hellen-\n",
      "Anich,N.M.,T.J.Benson,andJ.C.Bednarz.2009.Estimat- thal,R.L.Palma,K.P.JohnsonandD.H.Clayton(eds.),The\n",
      "ingterritoryandhome-rangesizes:Dosinginglocationsalone chewinglice:Worldchecklistandbiologicaloverview.Illinois\n",
      "provideanaccurateestimateofspaceuse?Auk126:626–634. NaturalHistorySurveySpecialPublication24,Champaign,IL.\n",
      "Benson,T.J.,N.M.Anich,J.D.Brown,andJ.C.Bednarz. Twedt,D.J.,andC.R.Loesch.1999.Forestareaanddistri-\n",
      "2009.Swainson’swarblernest-siteselectionineasternArkan- bution in the Mississippi Alluvial Valley: Implications for\n",
      "sas.Condor111:694–705. breedingbirdconservation.J.Biogeogr.26:1215–1224.\n",
      "Benson,T.J.,J.D.Brown,N.M.Anich,andJ.C.Bednarz. Valim,M.P.,andA.C.Cicchino.2015.Sixnewspeciesof\n",
      "2011. Habitat availability for bottomland hardwood forest Myrsidea Waterston, 1915 (Phthiraptera: Menoponidae)\n",
      "birds:theimportanceofconsideringelevation.J.FieldOrni- fromNewWorldjaysofthegenusCyanocoraxBoie(Passeri-\n",
      "thol.82:25–31. formes:Corvidae),withnotesonthechorionicstructureof\n",
      "Reiley,B.M.2011.Theeffectsofariverinefloodontheecology eggs.Syst.Parasitol.90:191–211.\n",
      "andhabitatoftheSwainson’sWarblerandatestoftheSwain- Valim,M.P.,andR.L.Palma.2006.AnewspeciesofBrueelia\n",
      "son’sWarblerHabitatSuitabilityIndex.M.S.thesis.Arkansas Ke´ler, 1936 (Phthiraptera: Ischnocera: Philopteridae) from\n",
      "StateUniversity,Jonesboro. theblue-blackgrassquit(Aves:Passeriformes:Emberizidae)\n",
      "Reiley,B.M.,J.C.Bednarz,andT.J.Benson.2013.Mecha- inBrazil.Zootaxa1153:27–32.\n",
      "nismsofflood-inducedterritoryabandonmentinanobligate Valim, M. P., and L. F. Silveira. 2014. A new species and\n",
      "ground-foragingbird.Condor115:650–658. five new records of chewing lice (Insecta: Phthiraptera:\n",
      "Carriker,M.A.Jr.1957.NotesonsomeoftheVernonL.Kel- Ischnocera)fromanisolatedpopulationofthesolitarytina-\n",
      "loggtypesofMallophaga.Microentomology22:95–110. mouTinamussolitarius(Aves:Tinamiformes).Zootaxa3838:\n",
      "Cicchino,A.C.1983.Especiesnuevasopococonocidasdel 127–142.\n",
      "generoBrueeliaKe´ler,1936(Mallophaga:Philopteridae)par- Valim,M.P.,andJ.D.Weckstein.2013.Adropinthebucket\n",
      "asitas de Passeriformes, Piciformes y Trogoniformes (Aves) ofthemegadiversechewinglousegenusMyrsidea(Phthirap-\n",
      "Americanos.Rev.Soc.Entomol.Argent42:283–303. tera,Amblycera,Menoponidae):tennewspeciesfromAma-\n",
      "Cicchino,A.C.,andD.C.Castro.1996.Revisio´npreliminar zonianBrazil.FoliaParasitol.60:377–400.\n",
      "delasespeciesdelge´neroBrueeliaKe´ler,1936(Phthiraptera:\n",
      "Philopteridae) para´sitas de Icterinae (Aves, Passeriformes, Received27April2015;accepted2July2015.\n",
      "Fringillidae).Graellsia52:3–30.\n"
     ]
    }
   ],
   "source": [
    "for n in range(len(pdf.pages)):\n",
    "    n_page = pdf.pages[n]\n",
    "    print(n_page.extract_text())"
   ]
  },
  {
   "cell_type": "markdown",
   "metadata": {},
   "source": [
    "Now I want to assign the result into a array so I can keep working with it. First we create an empty array and save the result of the loop in this array."
   ]
  },
  {
   "cell_type": "code",
   "execution_count": 30,
   "metadata": {},
   "outputs": [],
   "source": [
    "text=[]\n",
    "for n in range(len(pdf.pages)):\n",
    "    n_page = pdf.pages[n]\n",
    "    text.append(n_page.extract_text())"
   ]
  },
  {
   "cell_type": "code",
   "execution_count": 31,
   "metadata": {},
   "outputs": [
    {
     "data": {
      "text/plain": [
       "['MORPHOLOGY, SYSTEMATICS, EVOLUTION\\nThe Chewing Lice (Insecta, Phthiraptera) Fauna of the\\nSwainson’s Warbler, Limnothlypis swainsonii (Aves, Parulidae)\\nMICHELP.VALIM1,2ANDBRYANM.REILEY3,4\\nJ.Med.Entomol.52(5): 850–857(2015);DOI:10.1093/jme/tjv110\\nPublishedonlineAugust6,2015\\nABSTRACT We examined Swainson’s warblers (Limnothlypis swainsonii (Audubon, 1834), Aves:\\nParulidae)forlicefaunaduring2yratthreestudysitesinArkansas,USA.Atotalof66individualswere\\nexamined;eightbirds(10.6%)wereparasitizedwith16liceoftwonewspeciesbelongingtotwogenera\\nMyrsideaWaterson,1915(Amblycera:Menoponidae)andBrueeliaKe´ler,1936(Ischnocera:Philopteri-\\ndae).ParasitologicalparameterdataaregivenontheprevalenceofliceonSwainson’swarblers.Species\\ndescriptionsandillustrationsareprovidedforMyrsideabensonisp.nov.andBrueelialimnothlypiaesp.\\nnov.;includingakeyforfemalesofthegenusMyrsideathatparasitizeParulidae(Passeriformes).\\nKEYWORDS Brueelia,Myrsidea,Swainson’swarbler,newspecies,USA\\nThere are only 18 species of chewing lice described MaterialandMethods\\nfrom warblers of the family Parulidae (Aves: Passeri-\\nStudy Area. We conducted field work during the\\nformes) (Price et al. 2003, Kounek et al. 2011). In\\nspring and summers of 2009 and 2010 at three study\\nNorth America, there are four recognized genera of\\nsites in Arkansas: Big Island, Saint Francis National\\nchewing lice with species described on birds from the\\nForest, and White River National Wildlife Refuge as\\nfamily Parulidae: Brueelia Ke´ler, 1936 (Ischnocera,\\npartofabroaderstudyevaluatingtheeffectsofaflood\\nPhilopteridae), Menacanthus Neumann, 1912, Myrsi-\\nontheSwainson’swarbler(Reiley2011).\\ndea Waterston, 1915 (Amblycera, Menoponidae), and\\nBigIsland(33(cid:2) 53’35.4732”N;91(cid:2) 05’32.1469”W)is\\nRicinus DeGeer, 1778 (Amblycera, Ricinidae) (Price\\nalargeisland(9,700ha)boundedbytheWhiteRiverto\\net al. 2003). From these genera, only one species was\\nthenorth,theArkansasRivertothewest,andtheMis-\\ndescribed in the genus Brueelia—B. interposita (Kel-\\nsissippi River to the east. The island was owned by a\\nlogg, 1899)—from two species of Dendroica (Kellogg\\nforest-products company, Anderson-Tully, which har-\\n1899, Cicchino 1983) and five species were described\\nvested timberthereyearly;thisresultedinhabitatthat\\nin the genus Myrsidea from warbler hosts (Palma and\\nwas a mosaic of different age stands of bottomland\\nPrice2010,Kouneketal.2011).\\nhardwood forest. Dominant trees and understory\\nThepurposeofthispaperistodescribetwospecies\\nshrubsinareasoccupiedbySwainson’swarblersatBig\\nofchewinglicefoundontheSwainson’swarbler—Lim-\\nIslandwassimilartoWhiteRiverNWR(Bensonetal.\\nnothlypisswainsonii(Audubon,1834),amonotypicge-\\n2009).\\nnusofthe familyParulidae—composed bytwospecies\\nSaint Francis National Forest (34(cid:2) 36’16.8084” N;\\nofthe genera MyrsideaandBrueelia,describedbelow.\\n90(cid:2) 36’40.2357” W) is a 9,100-ha mix of upland forest\\nUptothepresent,therearenorecordsofanychewing\\nand bottomland forest located at the southern tip of\\nlicefromtheSwainson’swarbler(Priceetal.2003).We\\nCrowley’s Ridge. It was located in Lee and Phillips\\nalso provide a key for identification of females of spe-\\ncountiesinsoutheasternArkansas andbordered tothe\\nciesofMyrsideaparasitizingParulidae.\\neast by the St. Francis and Mississippi rivers. Areas\\noccupied by Swainson’s warblers in Saint Francis\\nNational Forest were along streams in upland areas\\nand in swamps within bottomland hardwood forest\\n(Anichetal.2009).\\nWhite River National Wildlife Refuge (34(cid:2)\\n01’12.5148”N;91(cid:2) 05’37.4506”W)isoneofthelargest\\n1MuseudeZoologiadaUSP,Av.Nazare´,481,Ipiranga,Sa˜oPaulo, contiguous tracts (64,800ha) of remaining bottomland\\nSP04263-000,Brazil.\\n2Correspondingauthor,e-mail:mpvalim@hotmail.com. hardwoods in the southeastern United States (Twedt\\n3Department of Biological Sciences, Arkansas State University, and Loesch 1999). Swainson’s warblers at White River\\nP.O.Box599,Jonesboro,AR72467. National Wildlife Refuge generally occupied relatively\\n4Presentaddress:IllinoisNaturalHistorySurvey,PrairieResearch higher elevation, less flood-prone areas (Benson et al.\\nInstitute,UniversityofIllinois,1816SouthOakSt.,Champaign,IL\\n2011,Reileyetal.2013).\\n61820.\\nVCTheAuthors2015.PublishedbyOxfordUniversityPressonbehalfofEntomologicalSocietyofAmerica.\\nAllrightsreserved.ForPermissions,pleaseemail:journals.permissions@oup.com',\n",
       " 'September2015 VALIMANDREILEY:CHEWINGLICEOFTHESWAINSON’SWARBLER 851\\nCapture Technique and Lice Sampling. Birds SuborderAMBLYCERAKellogg,1896\\nwere captured using targeted mist netting with song\\nFamilyMENOPONIDAEMjo¨berg,1910\\nplaybacksandfittedwithametalUnitedStatesGeolog-\\nical Survey band as well as a unique combination of GenusMyrsideaWaterston,1915\\nthree-colorbandsundermasterbanderpermitnumber Type species: Myrsidea victrix Waterston, 1915, by\\n#21426. The host common and scientific names follow originaldesignation.\\nDickinson andChristidis (2014). Once a birdwas cap-\\nturedandbanded,weutilizedadustrufflingtechnique\\ndescribed by Clayton and Walther (1997). Lice were\\nMyrsideabensonisp.nov.\\nfixedina90%ethanolsolution.Eachbirdwashandled\\nno more than 15min to minimize stress and any bird Typehost:Limnothlypisswainsonii(Audubon,1834)\\nexhibiting gaping or closed eyes was immediately Myrsideabensonisp.nov.ismorphologicallycloseto\\nreleasedtominimizedirectmortalities. M. paleno Kounek & Sychra, 2011; they are the only\\nLice Study. The specimens studied are deposited species of Myrsidea parasitizing Parulidae that present\\nin the Museu de Zoologia da Universidade de Sa˜o only a small modification on the posterior margin of\\nPaulo(MZUSP),withauniqueidentifiernumberfrom tergite I. Both sexes can be distinguished by the head\\nthe SophiA database for the Phthiraptera collection. shape(Fig.1A).Inaddition,femalesofthenewspecies\\nLice were permanently slide-mounted in Canada bal- tendtobesmallerandpresentfewersetaeinsomeseg-\\nsam, following the technique in Palma (1978). Termi- ments. The new species have tergites II–V with 7–12\\nnology, chaetotaxy, and nomenclatures for each lice setae each (vs M. paleno with 12–14 setae); sternites\\nfamily follows thatofClay(1966)and ratifiedinValim IV–V with 7–9 setae (vs M. paleno with 12–13 setae).\\nand Weckstein (2013) for the Menoponidae; and fol- And males have the tendency to possess 3 setae on\\nlows that of Clay (1951) and reinterpreted by Mey each aster, like in M. ridulosa (Kellogg & Chapman,\\n(1994), as wellas Cicchinoand Castro(1996), andthe 1899)(femaleshave4andmales3ofthesesetae),their\\nhead dorsal sensilla after Valim and Silveira (2014) for genitaliaarequitesimilartothatpresentinM.paleno,\\nthePhilopteridae. except for the genital sclerite which has a rounded tip\\nAllmeasurementsareinmillimetersandweretaken (apparentlyenlargedandgrosslybilobedinM.paleno).\\nfrom digitized images from slide-mounted specimens Type Material. HOLOTYPE: Female (MZUSP\\nusing the software Leica Application Suite (LAS), #6349), ex host #1911-26228, Big Island, Arkansas,\\nlinkedinto a LeicaBM500a microscope. Abbreviations USA, 27 Jun. 2009, B.M. Reiley col. PARATYPES:1-\\nfor bodyfeatures measured in new species description male(MZUSP#6353),exhost#1601-63324,BigIsland,\\nare:AW,abdominalwidth(atlevelofsegmentIV);GL, Arkansas,USA,27Jun.2009,B.M.Reileycol.1nymph\\nmale genitalia total length; HL, head length (at mid- I (MZUSP #6357), same data except, ex host #1601-\\nline);MTW,metathoraxwidth(atitsposteriorandwid- 63326. 2 males, 1 female, 1 nymph I, 1 nymph II, 1\\nest level); PAW, preantennal width (at level of dorsal nymphIII(MZUSP#6356),exhost#1911-26419,Saint\\nhead seta 10 in Menoponidae and at preconal seta in Francis National Forest, Arkansas,USA, 30 Jun.2009,\\nPhilopteridae); PL, paramere length; PW, prothorax J. Everitts col. 1 female (MZUSP #6350), same data\\nwidth; TL, total length (including the anal fringe, not except, ex host #1911-26630, Saint Francis National\\nits setae, in females of Menoponidae); TW, temporal Forest, 10 Jun. 2009. 1 female (MZUSP #6351), ex\\nwidth (at level of dorsal head seta 29 in Menoponidae host #1601-63309, White River National Wildlife Ref-\\nandatmarginaltemporalseta2inPhilopteridae). uge, Mellwood, Arkansas, USA, 22 Jun. 2009, B.M.\\nReileycol.\\nFemale. Species uniformly brownish in color,\\nResults\\nthorax and abdomen as in Fig. 1B. Head. Head as in\\nA total of 66 individual Swainson’s warblers were Fig.1A(dashedline),withtempleshortandtruncated.\\nexamined,witheightindividuals(10.6%)parasitizedby Dorsal head seta 10 (dhs10), 0.046–0.058 long; dhs11,\\ntwo new species belonging to each suborder of bird 0.084–0.100long,ratiodhs10/110.5–0.6.Hypopharynx\\nlice,oneskinlouse(ofthegenusMyrsidea,Amblycera) fully developed, ls5 0.05–0.06, ventrolateral fringe, 10\\nand one feather-louse (of the genus Brueelia, setae(onespecimenwith11ononeside).Gulawith4\\nIschnocera). Both species are described and named setae on each side, most posterior longest. Thorax.\\nbelow. Metanotum with posterior margin nearly straight,with\\nThe rate of infestation of both lice species was very 6 setae (one specimen with 8) on posterior margin;\\nlow (1–10 lice per bird). Eleven specimens of metapleurawith3setae(rarely2inoneside);metaster-\\nMyrsidea were sampled from six birds (x¼1.862.0, nal plate each side with 2–3 setae. First tibia with 3\\nrange¼1–6, males¼36%, females¼36%, and and 4 (rarely 5) outer lateral ventral and dorsal setae,\\nimmatures¼28%)andfivespecimensofBrueeliawere respectively. Setae of femoral brush, 12–15 (Fig. 1B).\\nsampled from two birds (x¼2.560.70, range¼2–3, Abdomen. Tergite I with small convexity on posterior\\nmales¼27%,adults¼100%). margin, tergite II only slightly pushed posteriorly\\n(Fig. 1B), tergites III–VIII regular in shape. Spiracles\\nIII-VIIIwithoneverysmallmedialpaleareaconspicu-\\nSystematics\\nouslypresentandrepresented inFigs 1B,Fasa ‘dot’,\\nOrderPHTHIRAPTERAHaeckel,1896 in tergites I and II theseareasare less discernible but',\n",
       " '852 JOURNALOFMEDICALENTOMOLOGY Vol.52,no.5\\nFig.1. (A)HeadoutlinesofMyrsideabensonisp.nov.(dashedline)andMyrsideapalenoKounekandSychra,2011(full\\nline);(B)Femalemeso-metathoraxandabdomenindorso-ventralviews;(C–E)Spermathecaofthreeindividuals,ps—pellets\\nofspermatozoids;(F)Malemeso-metathoraxandabdomenindorso-ventralviews;(G)Malegenitaliainventro-dorsalviews;\\n(H)Malegenitalsclerite.\\npresent.Withonemediangapineachtergalsetalrow. VandVI;long(0.18–0.24)onIandVII,andverylong\\nNo anterior setae on tergites, tergal posterior setae: I (0.32–0.48) on II, IV, and VIII. Anterior row of setae\\n10–11,II9–12,III8–12,IV7–9,V7–8,VI4–5,VII4, absentonsternites,sternalsetae:I0,IIeachasterof4\\nVIII4.Postspiracularsetaeshortest(0.14–0.17)onIII, spine-like setae (one specimen with 3 in one side),',\n",
       " 'September2015 VALIMANDREILEY:CHEWINGLICEOFTHESWAINSON’SWARBLER 853\\nposterior margin with 12–14 and anteriorly with 3–4 anterolateral minute setae each side. Metapleura\\n(onespecimenwith1seta),III17–25,IV22–28,V25– lacking setae. First tibia with 4 dorsal and 3 ventral\\n29, VI 20–22, VII 11–14. Pleurites without anterior setae. Femoral brush with 7 setae (rarely 8 in one\\nsetae,pleuralposteriorsetae:I5–6,II6–9,III4–7,IV side). Tergites I–VIII with 4 setae (counting as for\\n5–7,V5–6,VI4–6,VII3–4.TergiteIXwithinnerpos- adults). Abdomen. Tergites I–VIII composed by one\\nterior seta set at level between the long seta and longitudinal lateral (short) andonelongitudinal medial\\nthe midline of segment, 0.05–0.08 long. Genitalia. (medium long) rows of abdominal setae. Sternite I\\nSubgenital plate with 7–10 setae; vulvar margin without seta, in sternite II aster absent in lateral cor-\\nspiculated, and nearly straight and with 7–12 setae. ners; chaetotaxy restricted to double pairs of short\\nAnus with 32–35 ventral fringe setae, 26–29 dorsal. antero-lateral setae, and one pair of longer setae on\\nSpermatheca pear-shaped or spherical with thickened anterior portion of segment. Sternites III with 6 setae,\\nrim (Fig. 1C-E), some individuals with many rod- IV–VIIwith8setae,VIII–IXwith4.Pleuralchaetotaxy:\\nshapedpelletsofspermatozoidsinside(Fig.1D–E). I1,II2,III–VII 3. Tergal andsternalchaetotaxyasin\\nMeasurements (n¼4). HL 0.29–0.31, PAW 0.32– Fig.2A.\\n0.34, OW 0.41–0.44, PW 0.25–0.27, PSPL 0.10, MTW Measurements (n¼2). HL 0.23–0.25; PAW 0.25;\\n0.35–0.40, MSPL 0.14–0.16, AWIV 0.46–0.55, ANW TW0.29–0.30; PW 0.18–0.19; PTW 0.22–0.25; AW\\n0.17–0.18,TL1.31–1.39. 0.27–0.32;TL0.79–0.80.\\nMale. Colorationasinfemale,thoraxandabdomen NymphII. Bodyentirelywhitish,thorax andabdo-\\nas in Fig. 1F. Head. Head as in Fig. 1A, with temple men as in Fig. 2B. Head. Ratio of dhs10/11 0.8. Lat-\\nshort and truncated. Dorsal head seta 10, 0.044–0.049 ero-ventralfringewith8setaeineachside.Gularplate\\nlong; dhs11, 0.071–0.094 long, ratio dhs10/11 0.5–0.6. with3þ2setae,posteriorpairlonger.Thorax.Proster-\\nHypopharynx fully developed, ls5 0.04–0.05, ventrolat- num and mesosternum without setae, metasternum\\neralfringe,10setae.Gularplatewith4setaeeachside, with 2. Pronotum with 6 posterior setae, each lateral\\nmost posterior the longest. Thorax. Metanotum with cornerwith3shortsetae.Metanotumasinfirstnymph.\\n4–5 setae on posterior margin; metapleura with 1–3 Metapleura with 2 short spiniform setae. First tibia\\nsetae;metasternalplatewith2–3setaeeachside(rarely with 4 dorsal and 3 ventral setae. Femoral brush with\\n1inoneside).Firsttibiawith3and4outerlateralven- 9–10 setae. Abdomen. Tergal chaetotaxy as in first\\ntral and dorsal setae, respectively. Setae of femoral nymph.SterniteIwithoutseta,insterniteIIasterrudi-\\nbrush,10–12.Abdomen.Noanteriorsetaeontergites, mentaryinlateralcorners;composedbytwospiniform\\ntergal posteriorsetae: I5–6,II6–7,III7–8,IV6–7, V setae;posteriormarginwith5mediumlongsetae,plus\\n6, VI 4–5, VII 4, VIII 4. With distinct median gap in oneanteriorseta.SternitesIII–VIwith12,VII9,VIII–\\neach tergal setal row; tergal setae of similar length IX4setae.Pleuralchaetotaxyasinfirstnymph,except\\nreaching alveoli of next tergal row, except for those for segment I with 2 setae. Tergal and sternal chaeto-\\nmore lateral smaller and never reaching the next row. taxyasinFig.2B.\\nPostspiracularsetaeasforfemale.Patternofchaetotaxy Measurements (n¼1). HL 0.23; PAW 0.26; TW\\nof tergites and sternites as in Fig. 1F. Sternites 0.30;PW0.20;MTW0.27;AW0.36;TL0.90.\\nwithout anterior setae, sternal posterior setae: I 0, II NymphIII. Bodyentirelywhitish,thoraxandabdo-\\neachasterof3spine-likesetae(onespecimenwith4in men as in Fig. 2C. Head. Ratio of dhs10/11 0.6. Lat-\\none side), posterior margin with 8–10 and anteriorly ero-ventral fringe with 8 setae. Gular plate with 4þ3\\nwith 1–2, III 16–17, IV 18–22, V 20–25, VI 20–24, setae, posterior pair longer. Thorax. Prosternum and\\nVII 9–13. Pleurites without anterior setae, pleural mesosternum without setae, metasternum with 4. Pro-\\nposterior setae: I 3–4, II 4–5, III 5, IV 4–6, V 4–5, VI notumasinnymphII.Metanotumchaetotaxyasinfirst\\n4, VII 3–4. Tergite IX with inner posterior seta, nymph. Metapleura with 2 spiniform setae. First tibia\\n0.05–0.07 long. Anus with 8 internal setae on ventral with 4 dorsal and 3 ventral setae. Femoral brush with\\nside,and4ondorsal.Genitalia.Subgenitalplate with 11setae.Abdomen.Tergalchaetotaxy:alltergiteswith\\n11–12 setae. The entire genitalia in ventro-dorsal 4 setae, except tergites II and III with 5 and 6 setae,\\nviewsasinFig.1G,anddetailsofmalegenitalsclerite respectively.SterniteIwithoutseta,insternite IIaster\\ninFig.1H. rudimentary in each lateral corner, with 3 spine-like\\nMeasurements (n¼3). HL 0.27–0.28, PAW 0.29– setae; posterior margin with 7 setae and one single\\n0.30, OW 0.36–0.38, PW 0.23–0.24, PSPL 0.09, MTW anterior seta present. Sternites III 12, IV 15, V 17, VI\\n0.31–0.32, MSPL 0.11–0.12, AWIV 0.39–0.40, GL 14, VII 8, VIII–IX 4 setae. Pleural chaetotaxy: I 3,\\n0.35–0.37,GSL0.07,TL1.07–1.13. II–VI, 4, VII 3. Tergal and sternal chaetotaxy as in\\nNymph I. Body entirely whitish, thorax and abdo- Fig.2C.\\nmen as in Fig. 2A. Head. Ratio of dhs10/11 0.8–0.9. Measurements (n¼1). HL 0.24; PAW 0.28; TW\\nLatero-ventral fringe with 8 setae. Gular plate lacking 0.35;PW0.22;MTW0.30;AW0.40;TL1.00.\\nsetae. Thorax. Prosternum and mesosternum without Etymology. In recognition of his mentorship to B.\\nsetae (except for minute pair antero-lateral, always ReileyandimportantworkwiththeSwainson’swarbler,\\npresentinMenoponidae),metasternumwith2medium this species is named in honor of Thomas J. Benson\\nlong setae. Pronotum with 4 posterior setae, each (IllinoisNaturalHistorySurvey,USA).\\nantero-lateral corner with 1 short setae. Metanotum Discussion. Withthedescriptionofcompletenym-\\nwith one outermost long setae, one short, and one phal series of M. bensoni sp. nov., we are able to con-\\nmedium long posterior setae each side; three firm some morphological evidence about the',\n",
       " '854 JOURNALOFMEDICALENTOMOLOGY Vol.52,no.5\\nFig.2. NymphsofMyrsideabensonisp.nov.(A) NymphI,meso-metathoraxandabdomenin dorsoventralviews;(B)\\nNymphII,meso-metathoraxandabdomenindorsoventralviews;(C)NymphIII,meso-metathoraxandabdomenindorso\\nventralviews.\\nontogenetic development of the species of the genus presence of setae on metapleura of thorax; 4) anterior\\nMyrsidea. Recently, Valim and Cicchino (2015) setaeonsterniteII.\\ndescribed the first complete series of nymphs for one Characters Exclusive of all Nymphs. —1)\\nspecies of this genus, M. daleclaytoni Valim and Cic- metathoracic chaetotaxy composed each side by one\\nchino, 2015, and thus this species will be used as a laterallongseta,onesmallsublateral,plusonemedium\\nbasisofmorphologicalcomparisonwithourM.bensoni longsizedsetasetnearmidlineofmetathorax(seeFig.\\nsp.nov.Basedontheimmaturestagesofthesetwospe- 2A–C,andalsoValimandCicchino2015:Figs.50–52).\\ncieswecanconclude—\\nCharactersExclusiveofFirstNymph. —1)nosetaeon\\ngula;2)pronotumwithonlyfourlongsetaeonitspos-\\nterior margin; 3) absence of two small antero-lateral IdentificationKeyforFemalesofMyrsidea\\nsetae on each side of pronotum; 4) no setae on meta- (Menoponidae)ParasiticonParulidae\\npleura inthorax;5) noaster on sterniteII; 6)one pair (Aves,Passeriformes)\\nof long setae on sternite II (reminiscent for those of\\nposteriormargin). 1a Thorax with metanotum not enlarged; posterior\\nCharacters Exclusive of Second Nymph. —1) only marginofabdominaltergiteIroughlystraight.......2\\ntwosetaeoneachsideofasteronsterniteII. 1bThorax with metanotum posteriorly enlarged;\\nCharacters Exclusive of Third Nymph. —1) three posterior margin of abdominal tergite I conspicu-\\nsetaeoneachsideofasteronsterniteII;2)presenceof ouslytaperedmedially.......M.zeledoniKounek&\\ntheintermediatelongitudinalrowsofsetaeonfirstter- Sychra,2011\\ngites(I–IV). 2a Margin posterior of abdominal tergites II and III\\nCharactersExclusiveofFirstandSecondNymphs. — roughlystraight,oratmostwithaslightlyandnon-\\n1) one longitudinal medial row of long setae, plus one pronouncedconvexity..............................................3\\nlongitudinallateralrowofshortofsetae. 2bMargin posterior of abdominal tergites II\\nCharacters Exclusive of Second and Third and III with pronounced medioposterior\\nNymphs. —1) gula with setae; 2) presence of the two convexity...M.myioboriKounek&Sychra,2011\\nsmallantero-lateralsetaeoneachsideofpronotum;3) 3aAbdominaltergitesI–IIunmodified.......................4',\n",
       " 'September2015 VALIMANDREILEY:CHEWINGLICEOFTHESWAINSON’SWARBLER 855\\n3bAbdominal tergites I–II with slightly convexity on seta,preconalseta,preantennalseta,anteriorsetae1–2\\nposteriormargin.......................................................5 (as1–2), ocular seta, preocular setae, mts1–2,\\n4aPost-spiracularsetaonsegmentsV–VIIshorterthen andmts4–5.Postemporalsetaesensiliformbutpresent,\\non IV, sub equal in length; sternite II with (cid:3) 9 s1-s3present,andbothas3andpostnodalsetaeabsent.\\nsetaeanteriorly; vulvar margin with 12 Head dorso-ventral chaetotaxy as in Fig. 3B. Thorax.\\nsetae.....M.ridulosa(Kellogg&Chapman,1899) Pro- and pterothoracic apodema deeply pigmented,\\n4bPost-spiracularsetaonsegmentVIIlongerthanon brownish. Meso- and metasternal plates sub-pyriform,\\nV–VI; sternite II with(cid:4)5 setae anteriorly; longer than wide, weakly pigmented. Posterior margin\\nvulvarmarginwith7–8setae............M.basileuteri of pterothorax lacking pigmentary margination, with 5\\nKounek&Sychra,2011 setae interspersing one longer and one smaller each\\n5a Head shape as in Fig. 1 (dashed line); tergite IV side (in addition to one spine-like and one trichoid\\nandVwith7–9setae................M.bensonisp.nov. setae, each side). Abdomen. Terga II–VIII lightly and\\n5b Head shape as in Fig. 1 (full line); tergite IV uniformly pigmented, except for lateral parts corre-\\nandVwith12–13setae........M.palenoKounek& sponding to pleurites. Paratergal chaetotaxy: II–III 0,\\nSychra,2011 IV–VII 1 (rarely 2 in one side of IVor VII). Sternites\\non III–VI and subgenital plate entirely brownish and\\nuniformly pigmented. Tergal chaetotaxy, each side:\\nSuborderISCHNOCERAKellogg,1896\\npostspiracular long present on VI–VII (rarely on V in\\nFamilyPHILOPTERIDAEBurmeister,1838 one side); smaller and thinner accessory setae also\\npresent on VI–VII; 1–3 small posterior tergal setae on\\nBrueeliaKe´ler,1936 VII–VIII, and one small sutural seta on V–VIII. Geni-\\nTypespecies:BrueeliarossittensisKe´ler,1936(¼Nir- talia. Basal plate not greatly developed, with irregular\\nlateral borders, straight and long subtriangular para-\\nmus brachythorax Giebel, 1874), by original\\nmera (Fig. 3D); lateral sclerites of endomeral complex\\ndesignation.\\nwith theirposterioredge taperedandcorrugated,with\\n1–2sensilaeeachside;roundedsclerotizedringofgon-\\noporewithisposteriortipsdistinctlypointed(Fig.3D).\\nBrueelialimnothlypiaesp.nov.\\nMeasurements (n¼2). HL 0.31–0.33, PAW 0.19–\\nTypehost:Limnothlypisswainsonii(Audubon,1834) 0.20, TW 0.24, PW 0.15–0.16, MTW 0.21–0.22, AW\\nThere is only one species of Brueelia described in 0.31–0.32,TL1.27,GL0.13,PL0.03.\\nParulidae; it is Brueelia interposita (Kellogg, 1899). Female. General habitus as in Fig. 3E, with body\\nFemales differ by their general habitus, being slender index 4.4.Structures and pigmentation of head, thorax\\nin B. limnothlypiae sp. nov. (body index 4.4) and andabdomenmuchasformale,differinginbodysize,\\nstouter in B. interposita (body index 3.4). In addition, abdominal terminalia, and tergal chaetotaxy. One long\\nthe preantennal shape of Brueelia limnothlypiae sp. postspiracular seta on VI–VII. Tergite VIII with tri-\\nnov. is diagnostic and differs grossly from that of choid lateral seta and 2 pleural setae. Pleural chaeto-\\nB. interposita, the preantennal region is triangular in taxy as for male. Tergal plate IXþX with uniformly\\nthe new species (cephalic index 1.7, see Fig. 3C, pigmented, brownish, and tergites XI unpigmented.\\ndashed line), while in B. interposita it is roughly Genitalia.Subgenitalplateuniformly pigmented,with\\nrounded(cephalicindex0.9,seeFig.3C,fullline). “cross-piece” entirely fused with sternite IX, and 1–3\\nThe entirely brownish body habitus makes B. lim- small setae each side (Fig. 3F). Gonapophysis com-\\nnothlypiaesp.nov.promptlydistinctfromotherspecies monly with 3 setae (one aberrant female with 1þ4)\\nof Brueelia with slender bodies and that live on other (Fig.3F).Vulvarmarginwith7–10shortandspiniform\\npasserines than warblers (e.g., Cicchino and Castro setaeand5–8longerandfiner(Fig.3F).\\n1996,ValimandPalma2006,PalmaandPeck2013). Measurements (n¼3). HL 0.32–0.36, PAW 0.19–\\nType Material. HOLOTYPE: Male (MZUSP 0.21, TW 0.24–0.26, PW 0.16–0.18, MTW 0.21–0.24,\\n#6358), host #1601-63327, Big Island, Arkansas, USA, AW0.31–0.35,TL1.35–1.47.\\n29 Jun. 2009, B.M. Reiley col. PARATYPES: 2 fema- Etymology. The specific epithet is taken from the\\nles(MZUSP#6359–60), same dataas holotype. 1male, generic name of the host; it is a noun in the genitive\\n1 female (MZUSP #6361–62), host #1601-63312, Big case.\\nIsland,Arkansas,USA,25Jun.2009,B.M.Reileycol. Discussion. The type series for B. interposita is\\nMale. General habitus as in Fig. 3A, very slender composed by 3 females syntypes (Kellogg, 1899), from\\nwithbodyindex4.1.Head.Conicshaped(Figs13and Dendroica petechia aequatorialis Sundeval (fide Car-\\n14,dashedline),almosttwiceaslongaswide(cephalic riker, 1957). Although it was confirmed by Carriker\\nindex 1.6–1.7), temporal margin nearly rounded (1957), this same author writes after such confirmation,\\n(Fig.3B).Preantennalmarginstraightandconvergent; choose“thebestmaleonslideNo.470a...”whiledes-\\nmarginal carina thickened with its inner edge weakly ignating the lectotype for this species (Palma and Peck,\\nsinuate and dark brownish pigmented. Frontoclypeal 2013). In this same paper Carriker, (1957) said that the\\nsutureentirelybrownish.Gularplaterhombicinsilhou- condition of specimens prevented a good study of the\\nette, uniformly brownish pigmented. Marginal tempo- headindetail,buthedidnotsayanythingaboutdistor-\\nral carina pigmented up to level of marginal temporal tiononpreparations.Infact,someoftheKellogg’sspeci-\\nsetae 4 (mts4). Head setae quite short: anterior dorsal mens need to be remounted because they were not',\n",
       " '856 JOURNALOFMEDICALENTOMOLOGY Vol.52,no.5\\nFig.3. Brueelialymnothlypiaesp.nov.(A)Malehabitusindorso-ventralviews;(B)Maleheadindorso-ventralviews;\\n(C)HeadoutlinesofBrueelialymnothlypiaesp.nov.(dashedline)andBrueeliainterposita(Kellogg,1899)(fullline);(D)Male\\ngenitaliaindorsalview;(E)Femalehabitusindorso-ventralviews;(F)Femaleterminaliaindorso-ventralviews.\\nmacerated,butarestillinreasonableshape(M.P.Valim our comparison. In addition, is not surprising for us to\\npersonal observation), which could be the case of types find two species of Brueelia with such distinct head\\nforB.interposita.Duetothis,wearecertainoftheout- shapes (slender vs stouter) on Parulidae. We have seen\\nlineofthehabitus,includingitshead,forthepurposeof the same thing in samples (M. P. Valim, unpublished',\n",
       " 'September2015 VALIMANDREILEY:CHEWINGLICEOFTHESWAINSON’SWARBLER 857\\ndata) from South American warblers, including individ- Clay,T.1951.Anintroductiontoaclassificationoftheavian\\nualhostswithbothspeciesoccurringinsynoxenism. Ischnocera (Mallophaga): Part I. Trans. R. Entomol. Soc.\\nRegarding the data presented by Cicchino (1983), Lond.102:171–195.\\nwe agree with that author and accept with reservation Clay, T. 1966. Contributions towards a revision of Myrsidea\\nWaterston I. (Menoponidae: Mallophaga). Bull. Br. Mus.\\nthe name B. interposita for the specimens from Seto-\\nNat.Hist.Entomol.17:327–395.\\nphaga pensylvanica (L.) (Parulidae). Additionally\\nClayton, D. H., and B. A. Walther. 1997. Collection and\\nB.interpositahasalsobeenfoundonatleastninehost\\nquantificationofarthropodparasitesofbirds,pp.419–440.In\\nspecies,mostofthempasserinesofthefamilyEmberi- D.H.ClaytonandJ.Moore(eds.),Host-parasiteevolution:\\nzidae, in an island environment (see Palma and Peck, General principles and avian models. Oxford University\\n2013), but after Cicchino (1983) no morphological press,Oxford,UnitedKingdom.\\nwork has dealt with this species. The chaetotaxy pre- Dickinson,E.C.,andL.Christidis.2014.TheHowardand\\nsentedbyKellogg(1899)doesnotfitwiththosespeci- Moorecompletechecklistofthebirdsoftheworld.4thEd.\\nmens studied by Cicchino (1983). On the other hand, Vol.2Passerines.AvesPress,Eastbourne,UnitedKingdom.\\nKellogg, V. L. 1899. New Mallophaga III. Mallophaga from\\nthepreantennalregiondepictedfor“B.interposita”by\\nbirds of Panama, Baja California and Alaska. Occas. pap.\\nCicchino(1983)agreesmuchmorewiththatpresented\\nCalif.Acad.Sci.6:3–52.\\nby Kellogg (1899) than as presented in both sexes of\\nKellogg,V.L.,andB.L.Chapman.1899.Mallophagafrom\\nB.Limnothlypiaesp.nov. birdsofCalifornia.Occas.pap.Calif.Acad.Sci.6:53–143.\\nKounek, F., O. Sychra, M. Capek, and I. Literak. 2011.\\nChewingliceofthegenusMyrsidea(Phthiraptera:Menopo-\\nAcknowledgments\\nnidae)fromNewWorldwarblers(Passeriformes:Parulidae)\\nfromCostaRica,withdescriptionsoffournewspecies.Zoo-\\nThanksareduetoOldrˇichSychraforhisfruitfuldiscussion\\ntaxa3137:56–63.\\nandopinionabouttheidentityofthenewspeciesofMyrsidea\\nMey, E. 1994. BeziehungenzwischenLarvenmorphologie und\\ndescribedherein.WeareespeciallythankfultoJamesC.Bed-\\nSystematik der Adultibei den Vogel-Ischnozeren (Insecta,\\nnarzforhissupportandforstartingtheprojectinArkansas\\nPhthiraptera,Ischnocera).Mitt.Zool.Mus.Berl.70:3–84.\\nthatledtothisresearch.WeareindebtedtoJ.Everittsforhis\\nPalma,R.L.1978.Slidemountingoflice:Adetaileddescription\\ncontribution to the samples used in this research. We also\\noftheCanadaBalsamtechnique.N.Z.entomol.6:432–436.\\nthankA.Overfield,S.Rune,andA.Beelerfortheirassistance\\nPalma,R.L.,andR.D.Price.2010.ThespeciesofMyrsidea\\nin the field and two anonymous referees, whose valuable\\nWaterston (Insecta: Phthiraptera: Menoponidae) from the\\ncomments greatly improved our early version of this manu-\\nGalapagosIslands,withdescriptionsofnewtaxa.Tuhinga.21:\\nscript. This study was partially supported by FAPESP—Sa˜o\\n135–146.\\nPauloResearchFoundation,Brazil(MPV:2011/11420-5and\\nPalma,R.L.,andS.B.Peck.2013.Anannotatedchecklistof\\n2012/06951-4)andthefieldportionofthestudywasprovided\\nparasitic lice (Insecta: Phthiraptera) fromthe Gala´pagos Is-\\nbytheU.S.FishandWildlifeService.\\nlands.Zootaxa3627:1–87.\\nPrice,R.D.,R.A.Hellenthal,andR.L.Palma.2003.World\\nReferencesCited checklist of chewing lice with host associations and keys to\\nfamiliesandgenera,pp.1–448,InR.D.Price,R.A.Hellen-\\nAnich,N.M.,T.J.Benson,andJ.C.Bednarz.2009.Estimat- thal,R.L.Palma,K.P.JohnsonandD.H.Clayton(eds.),The\\ningterritoryandhome-rangesizes:Dosinginglocationsalone chewinglice:Worldchecklistandbiologicaloverview.Illinois\\nprovideanaccurateestimateofspaceuse?Auk126:626–634. NaturalHistorySurveySpecialPublication24,Champaign,IL.\\nBenson,T.J.,N.M.Anich,J.D.Brown,andJ.C.Bednarz. Twedt,D.J.,andC.R.Loesch.1999.Forestareaanddistri-\\n2009.Swainson’swarblernest-siteselectionineasternArkan- bution in the Mississippi Alluvial Valley: Implications for\\nsas.Condor111:694–705. breedingbirdconservation.J.Biogeogr.26:1215–1224.\\nBenson,T.J.,J.D.Brown,N.M.Anich,andJ.C.Bednarz. Valim,M.P.,andA.C.Cicchino.2015.Sixnewspeciesof\\n2011. Habitat availability for bottomland hardwood forest Myrsidea Waterston, 1915 (Phthiraptera: Menoponidae)\\nbirds:theimportanceofconsideringelevation.J.FieldOrni- fromNewWorldjaysofthegenusCyanocoraxBoie(Passeri-\\nthol.82:25–31. formes:Corvidae),withnotesonthechorionicstructureof\\nReiley,B.M.2011.Theeffectsofariverinefloodontheecology eggs.Syst.Parasitol.90:191–211.\\nandhabitatoftheSwainson’sWarblerandatestoftheSwain- Valim,M.P.,andR.L.Palma.2006.AnewspeciesofBrueelia\\nson’sWarblerHabitatSuitabilityIndex.M.S.thesis.Arkansas Ke´ler, 1936 (Phthiraptera: Ischnocera: Philopteridae) from\\nStateUniversity,Jonesboro. theblue-blackgrassquit(Aves:Passeriformes:Emberizidae)\\nReiley,B.M.,J.C.Bednarz,andT.J.Benson.2013.Mecha- inBrazil.Zootaxa1153:27–32.\\nnismsofflood-inducedterritoryabandonmentinanobligate Valim, M. P., and L. F. Silveira. 2014. A new species and\\nground-foragingbird.Condor115:650–658. five new records of chewing lice (Insecta: Phthiraptera:\\nCarriker,M.A.Jr.1957.NotesonsomeoftheVernonL.Kel- Ischnocera)fromanisolatedpopulationofthesolitarytina-\\nloggtypesofMallophaga.Microentomology22:95–110. mouTinamussolitarius(Aves:Tinamiformes).Zootaxa3838:\\nCicchino,A.C.1983.Especiesnuevasopococonocidasdel 127–142.\\ngeneroBrueeliaKe´ler,1936(Mallophaga:Philopteridae)par- Valim,M.P.,andJ.D.Weckstein.2013.Adropinthebucket\\nasitas de Passeriformes, Piciformes y Trogoniformes (Aves) ofthemegadiversechewinglousegenusMyrsidea(Phthirap-\\nAmericanos.Rev.Soc.Entomol.Argent42:283–303. tera,Amblycera,Menoponidae):tennewspeciesfromAma-\\nCicchino,A.C.,andD.C.Castro.1996.Revisio´npreliminar zonianBrazil.FoliaParasitol.60:377–400.\\ndelasespeciesdelge´neroBrueeliaKe´ler,1936(Phthiraptera:\\nPhilopteridae) para´sitas de Icterinae (Aves, Passeriformes, Received27April2015;accepted2July2015.\\nFringillidae).Graellsia52:3–30.']"
      ]
     },
     "execution_count": 31,
     "metadata": {},
     "output_type": "execute_result"
    }
   ],
   "source": [
    "text"
   ]
  },
  {
   "cell_type": "markdown",
   "metadata": {},
   "source": [
    "In ```text``` we can see all of the extra things that are on the text, like the \\n"
   ]
  },
  {
   "cell_type": "code",
   "execution_count": 32,
   "metadata": {},
   "outputs": [
    {
     "data": {
      "text/plain": [
       "list"
      ]
     },
     "execution_count": 32,
     "metadata": {},
     "output_type": "execute_result"
    }
   ],
   "source": [
    "type(text)"
   ]
  },
  {
   "cell_type": "code",
   "execution_count": 33,
   "metadata": {},
   "outputs": [],
   "source": [
    "import pandas as pd"
   ]
  },
  {
   "cell_type": "code",
   "execution_count": 34,
   "metadata": {},
   "outputs": [
    {
     "data": {
      "text/html": [
       "<div>\n",
       "<style scoped>\n",
       "    .dataframe tbody tr th:only-of-type {\n",
       "        vertical-align: middle;\n",
       "    }\n",
       "\n",
       "    .dataframe tbody tr th {\n",
       "        vertical-align: top;\n",
       "    }\n",
       "\n",
       "    .dataframe thead th {\n",
       "        text-align: right;\n",
       "    }\n",
       "</style>\n",
       "<table border=\"1\" class=\"dataframe\">\n",
       "  <thead>\n",
       "    <tr style=\"text-align: right;\">\n",
       "      <th></th>\n",
       "      <th>0</th>\n",
       "    </tr>\n",
       "  </thead>\n",
       "  <tbody>\n",
       "    <tr>\n",
       "      <th>0</th>\n",
       "      <td>MORPHOLOGY, SYSTEMATICS, EVOLUTION\\nThe Chewin...</td>\n",
       "    </tr>\n",
       "    <tr>\n",
       "      <th>1</th>\n",
       "      <td>September2015 VALIMANDREILEY:CHEWINGLICEOFTHES...</td>\n",
       "    </tr>\n",
       "    <tr>\n",
       "      <th>2</th>\n",
       "      <td>852 JOURNALOFMEDICALENTOMOLOGY Vol.52,no.5\\nFi...</td>\n",
       "    </tr>\n",
       "    <tr>\n",
       "      <th>3</th>\n",
       "      <td>September2015 VALIMANDREILEY:CHEWINGLICEOFTHES...</td>\n",
       "    </tr>\n",
       "    <tr>\n",
       "      <th>4</th>\n",
       "      <td>854 JOURNALOFMEDICALENTOMOLOGY Vol.52,no.5\\nFi...</td>\n",
       "    </tr>\n",
       "    <tr>\n",
       "      <th>5</th>\n",
       "      <td>September2015 VALIMANDREILEY:CHEWINGLICEOFTHES...</td>\n",
       "    </tr>\n",
       "    <tr>\n",
       "      <th>6</th>\n",
       "      <td>856 JOURNALOFMEDICALENTOMOLOGY Vol.52,no.5\\nFi...</td>\n",
       "    </tr>\n",
       "    <tr>\n",
       "      <th>7</th>\n",
       "      <td>September2015 VALIMANDREILEY:CHEWINGLICEOFTHES...</td>\n",
       "    </tr>\n",
       "  </tbody>\n",
       "</table>\n",
       "</div>"
      ],
      "text/plain": [
       "                                                   0\n",
       "0  MORPHOLOGY, SYSTEMATICS, EVOLUTION\\nThe Chewin...\n",
       "1  September2015 VALIMANDREILEY:CHEWINGLICEOFTHES...\n",
       "2  852 JOURNALOFMEDICALENTOMOLOGY Vol.52,no.5\\nFi...\n",
       "3  September2015 VALIMANDREILEY:CHEWINGLICEOFTHES...\n",
       "4  854 JOURNALOFMEDICALENTOMOLOGY Vol.52,no.5\\nFi...\n",
       "5  September2015 VALIMANDREILEY:CHEWINGLICEOFTHES...\n",
       "6  856 JOURNALOFMEDICALENTOMOLOGY Vol.52,no.5\\nFi...\n",
       "7  September2015 VALIMANDREILEY:CHEWINGLICEOFTHES..."
      ]
     },
     "execution_count": 34,
     "metadata": {},
     "output_type": "execute_result"
    }
   ],
   "source": [
    "df = pd.DataFrame(text)\n",
    "df"
   ]
  },
  {
   "cell_type": "markdown",
   "metadata": {},
   "source": [
    " <span style='color:royalblue'>  After step 1, I divided the notebook in two sections: the steps in purple are the ones that we are thinking with Mario that could be another aproach to the problem, and the steps in black are what Rafe told us in the initial meeting. </span> "
   ]
  },
  {
   "cell_type": "markdown",
   "metadata": {},
   "source": [
    "## <span style='color:mediumpurple'> Step 2. Divide the pages in paragraphs or other </span>"
   ]
  },
  {
   "cell_type": "markdown",
   "metadata": {},
   "source": [
    "We can use the \\n to create a matrix divided by paragraphs, and have an index for each paragraph"
   ]
  },
  {
   "cell_type": "markdown",
   "metadata": {},
   "source": [
    "## <span style='color:mediumpurple'> Step 3. Dictionary for sp </span>"
   ]
  },
  {
   "cell_type": "markdown",
   "metadata": {},
   "source": [
    "Find in which paragraph appears the names of the sp from a dict. (Dictionary of all the species of the genus Myrsidea.)\n",
    "The data and additional info (characters): \n",
    "- certain number of characters before and after\n",
    "- entire paragraph\n",
    "- phrase\n",
    "- separation by commas"
   ]
  },
  {
   "cell_type": "markdown",
   "metadata": {},
   "source": [
    "*Using an if ?* That is: if you find this sp, take the sp, characters from before and after (or other), and the number of the paragraph "
   ]
  },
  {
   "cell_type": "markdown",
   "metadata": {},
   "source": [
    "## <span style='color:mediumpurple'> Step 4. Dictionary for traits  </span>"
   ]
  },
  {
   "cell_type": "markdown",
   "metadata": {},
   "source": [
    "After having the info of the sp, look for the traits"
   ]
  },
  {
   "cell_type": "markdown",
   "metadata": {},
   "source": [
    "## <span style='color:mediumpurple'> Step 5. Dictionary for specific info  </span>"
   ]
  },
  {
   "cell_type": "markdown",
   "metadata": {},
   "source": [
    "Such as CT, UG, PAW, and numbers associated with it"
   ]
  },
  {
   "cell_type": "markdown",
   "metadata": {},
   "source": [
    "### <span style='color:lightcoral'> Tasks to solve  </span>\n"
   ]
  },
  {
   "cell_type": "markdown",
   "metadata": {},
   "source": [
    "- When a paper has 2 columns, the reader foes through the line but doesn't understand there are columns"
   ]
  },
  {
   "cell_type": "markdown",
   "metadata": {},
   "source": [
    "- What are the key words for splitting the paper and recover the info:\n",
    "\n",
    "    * \" with \"\n",
    "    * setea"
   ]
  },
  {
   "cell_type": "markdown",
   "metadata": {},
   "source": [
    "- How to extract a table from a paper as it is"
   ]
  },
  {
   "cell_type": "markdown",
   "metadata": {},
   "source": [
    "- How to create a table with all the different info"
   ]
  },
  {
   "cell_type": "markdown",
   "metadata": {},
   "source": [
    "- How to create an `IF` to extract the info based on a dictionary of the terms of interest"
   ]
  },
  {
   "cell_type": "markdown",
   "metadata": {},
   "source": [
    "# "
   ]
  },
  {
   "cell_type": "markdown",
   "metadata": {},
   "source": [
    " "
   ]
  },
  {
   "cell_type": "markdown",
   "metadata": {},
   "source": [
    " "
   ]
  },
  {
   "cell_type": "markdown",
   "metadata": {},
   "source": [
    " "
   ]
  },
  {
   "cell_type": "markdown",
   "metadata": {},
   "source": [
    "## <span style='color:slategray'> Step 2. Remove headers and such </span>"
   ]
  },
  {
   "cell_type": "markdown",
   "metadata": {},
   "source": [
    "Each page corresponds to an element of the vector/list text. "
   ]
  },
  {
   "cell_type": "markdown",
   "metadata": {},
   "source": [
    "We could remove the header assuming it corresponds to the \"first phrase\" of each page, that is before the first \\n"
   ]
  },
  {
   "cell_type": "markdown",
   "metadata": {},
   "source": [
    "## <span style='color:slategray'> Step 3. Clean the text: remove all of the extra things and leave all the phrases in only one line </span>"
   ]
  },
  {
   "cell_type": "markdown",
   "metadata": {},
   "source": [
    "We want to delete all of the \\n. \n",
    "\n",
    "`string.replace(old_text, new_text, count)`"
   ]
  },
  {
   "cell_type": "code",
   "execution_count": 35,
   "metadata": {},
   "outputs": [
    {
     "data": {
      "text/html": [
       "<div>\n",
       "<style scoped>\n",
       "    .dataframe tbody tr th:only-of-type {\n",
       "        vertical-align: middle;\n",
       "    }\n",
       "\n",
       "    .dataframe tbody tr th {\n",
       "        vertical-align: top;\n",
       "    }\n",
       "\n",
       "    .dataframe thead th {\n",
       "        text-align: right;\n",
       "    }\n",
       "</style>\n",
       "<table border=\"1\" class=\"dataframe\">\n",
       "  <thead>\n",
       "    <tr style=\"text-align: right;\">\n",
       "      <th></th>\n",
       "      <th>0</th>\n",
       "    </tr>\n",
       "  </thead>\n",
       "  <tbody>\n",
       "    <tr>\n",
       "      <th>0</th>\n",
       "      <td>MORPHOLOGY, SYSTEMATICS, EVOLUTIONThe Chewing ...</td>\n",
       "    </tr>\n",
       "    <tr>\n",
       "      <th>1</th>\n",
       "      <td>September2015 VALIMANDREILEY:CHEWINGLICEOFTHES...</td>\n",
       "    </tr>\n",
       "    <tr>\n",
       "      <th>2</th>\n",
       "      <td>852 JOURNALOFMEDICALENTOMOLOGY Vol.52,no.5Fig....</td>\n",
       "    </tr>\n",
       "    <tr>\n",
       "      <th>3</th>\n",
       "      <td>September2015 VALIMANDREILEY:CHEWINGLICEOFTHES...</td>\n",
       "    </tr>\n",
       "    <tr>\n",
       "      <th>4</th>\n",
       "      <td>854 JOURNALOFMEDICALENTOMOLOGY Vol.52,no.5Fig....</td>\n",
       "    </tr>\n",
       "    <tr>\n",
       "      <th>5</th>\n",
       "      <td>September2015 VALIMANDREILEY:CHEWINGLICEOFTHES...</td>\n",
       "    </tr>\n",
       "    <tr>\n",
       "      <th>6</th>\n",
       "      <td>856 JOURNALOFMEDICALENTOMOLOGY Vol.52,no.5Fig....</td>\n",
       "    </tr>\n",
       "    <tr>\n",
       "      <th>7</th>\n",
       "      <td>September2015 VALIMANDREILEY:CHEWINGLICEOFTHES...</td>\n",
       "    </tr>\n",
       "  </tbody>\n",
       "</table>\n",
       "</div>"
      ],
      "text/plain": [
       "                                                   0\n",
       "0  MORPHOLOGY, SYSTEMATICS, EVOLUTIONThe Chewing ...\n",
       "1  September2015 VALIMANDREILEY:CHEWINGLICEOFTHES...\n",
       "2  852 JOURNALOFMEDICALENTOMOLOGY Vol.52,no.5Fig....\n",
       "3  September2015 VALIMANDREILEY:CHEWINGLICEOFTHES...\n",
       "4  854 JOURNALOFMEDICALENTOMOLOGY Vol.52,no.5Fig....\n",
       "5  September2015 VALIMANDREILEY:CHEWINGLICEOFTHES...\n",
       "6  856 JOURNALOFMEDICALENTOMOLOGY Vol.52,no.5Fig....\n",
       "7  September2015 VALIMANDREILEY:CHEWINGLICEOFTHES..."
      ]
     },
     "execution_count": 35,
     "metadata": {},
     "output_type": "execute_result"
    }
   ],
   "source": [
    "dfnon_text = df.replace('\\n','', regex=True)\n",
    "dfnon_text"
   ]
  },
  {
   "cell_type": "markdown",
   "metadata": {},
   "source": [
    "## <span style='color:slategray'> Step 4. Process de phrases to find specific terms (traits) </span>"
   ]
  },
  {
   "cell_type": "markdown",
   "metadata": {},
   "source": [
    "## <span style='color:slategray'> Step 5. Linking the terms (traits) to what they belong </span>"
   ]
  },
  {
   "cell_type": "code",
   "execution_count": null,
   "metadata": {},
   "outputs": [],
   "source": []
  },
  {
   "cell_type": "code",
   "execution_count": null,
   "metadata": {},
   "outputs": [],
   "source": []
  },
  {
   "cell_type": "markdown",
   "metadata": {},
   "source": [
    " <span style='color:royalblue'> The module pdf to text was the one Rafe mentioned in the meeting, but unfortunately it could not make it work. </span> "
   ]
  },
  {
   "cell_type": "markdown",
   "metadata": {},
   "source": [
    "## <span style='color:yellowgreen'> Module pdf to text </span>"
   ]
  },
  {
   "cell_type": "markdown",
   "metadata": {},
   "source": [
    "This one didn't work for me"
   ]
  },
  {
   "cell_type": "code",
   "execution_count": 56,
   "metadata": {},
   "outputs": [
    {
     "name": "stdout",
     "output_type": "stream",
     "text": [
      "Collecting poppler-utils\n",
      "  Downloading poppler_utils-0.1.0-py3-none-any.whl (9.2 kB)\n",
      "Requirement already satisfied: Click>=7.0 in /opt/anaconda3/lib/python3.8/site-packages (from poppler-utils) (7.1.2)\n",
      "Installing collected packages: poppler-utils\n",
      "Successfully installed poppler-utils-0.1.0\n",
      "Note: you may need to restart the kernel to use updated packages.\n"
     ]
    }
   ],
   "source": [
    "pip install poppler-utils"
   ]
  },
  {
   "cell_type": "markdown",
   "metadata": {},
   "source": [
    "brew install pkg-config poppler python\n",
    "pip install pdftotext\n",
    "import pdftotext"
   ]
  }
 ],
 "metadata": {
  "kernelspec": {
   "display_name": "Python 3",
   "language": "python",
   "name": "python3"
  },
  "language_info": {
   "codemirror_mode": {
    "name": "ipython",
    "version": 3
   },
   "file_extension": ".py",
   "mimetype": "text/x-python",
   "name": "python",
   "nbconvert_exporter": "python",
   "pygments_lexer": "ipython3",
   "version": "3.8.5"
  }
 },
 "nbformat": 4,
 "nbformat_minor": 4
}
