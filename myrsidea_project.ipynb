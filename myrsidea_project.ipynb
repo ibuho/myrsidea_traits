{
 "cells": [
  {
   "cell_type": "markdown",
   "metadata": {},
   "source": [
    "# Myrsidea_project"
   ]
  },
  {
   "cell_type": "markdown",
   "metadata": {},
   "source": [
    "## <span style='color:mediumvioletred'> Step 1: Extract the text from the pdfs </span>"
   ]
  },
  {
   "cell_type": "markdown",
   "metadata": {},
   "source": [
    "### <span style='color:yellowgreen'> **Module PyPDF2**</span>"
   ]
  },
  {
   "cell_type": "code",
   "execution_count": 1,
   "metadata": {},
   "outputs": [],
   "source": [
    "import PyPDF2"
   ]
  },
  {
   "cell_type": "code",
   "execution_count": 2,
   "metadata": {},
   "outputs": [],
   "source": [
    "pdffileobj=open('Hola.pdf','rb')"
   ]
  },
  {
   "cell_type": "code",
   "execution_count": 3,
   "metadata": {},
   "outputs": [],
   "source": [
    "pdfreader=PyPDF2.PdfFileReader(pdffileobj)"
   ]
  },
  {
   "cell_type": "code",
   "execution_count": 4,
   "metadata": {},
   "outputs": [
    {
     "data": {
      "text/plain": [
       "2"
      ]
     },
     "execution_count": 4,
     "metadata": {},
     "output_type": "execute_result"
    }
   ],
   "source": [
    "x=pdfreader.numPages\n",
    "x"
   ]
  },
  {
   "cell_type": "code",
   "execution_count": 5,
   "metadata": {},
   "outputs": [
    {
     "data": {
      "text/plain": [
       "' \\nHola 2 \\n \\n \\n \\nblublu2\\n \\n'"
      ]
     },
     "execution_count": 5,
     "metadata": {},
     "output_type": "execute_result"
    }
   ],
   "source": [
    "pageobj=pdfreader.getPage(x-1)\n",
    "pageobj.extractText()"
   ]
  },
  {
   "cell_type": "code",
   "execution_count": 6,
   "metadata": {},
   "outputs": [],
   "source": [
    "pageObj = pdfreader.getPage(0)"
   ]
  },
  {
   "cell_type": "code",
   "execution_count": 7,
   "metadata": {},
   "outputs": [
    {
     "name": "stdout",
     "output_type": "stream",
     "text": [
      ": \n",
      "Hola : ) \n",
      " \n",
      " \n",
      "Blublublu\n",
      " \n",
      " \n",
      " \n",
      " \n",
      " \n",
      " \n",
      " \n",
      " \n",
      " \n",
      " \n",
      " \n",
      " \n",
      " \n",
      " \n",
      " \n",
      " \n",
      " \n",
      " \n",
      " \n",
      " \n",
      " \n",
      " \n",
      " \n",
      " \n",
      " \n",
      " \n",
      " \n",
      " \n",
      " \n",
      " \n",
      " \n",
      " \n",
      " \n",
      " \n",
      " \n",
      " \n",
      " \n",
      " \n",
      " \n",
      " \n",
      " \n",
      " \n",
      " \n",
      " \n",
      " \n",
      "\n"
     ]
    }
   ],
   "source": [
    "print(pageObj.extractText())"
   ]
  },
  {
   "cell_type": "code",
   "execution_count": null,
   "metadata": {},
   "outputs": [],
   "source": [
    "reader = pdf.PdfFileReader(pdffileobj)\n",
    "pageObj2 = reader.getNumPages()"
   ]
  },
  {
   "cell_type": "code",
   "execution_count": null,
   "metadata": {},
   "outputs": [],
   "source": [
    "for page_count in range(pageObj2):\n",
    "    page = reader.getPage(page_count)\n",
    "    page_data = page.extractText()\n"
   ]
  },
  {
   "cell_type": "code",
   "execution_count": null,
   "metadata": {},
   "outputs": [],
   "source": [
    "page_data"
   ]
  },
  {
   "cell_type": "markdown",
   "metadata": {},
   "source": [
    " ## <span style='color:yellowgreen'>Module pdfplumber  </span>"
   ]
  },
  {
   "cell_type": "code",
   "execution_count": 10,
   "metadata": {},
   "outputs": [],
   "source": [
    "import pdfplumber"
   ]
  },
  {
   "cell_type": "markdown",
   "metadata": {},
   "source": [
    "**How they put it**"
   ]
  },
  {
   "cell_type": "code",
   "execution_count": 97,
   "metadata": {},
   "outputs": [
    {
     "name": "stdout",
     "output_type": "stream",
     "text": [
      "Header one  Header two  Header tree \n",
      "1. Title 1. \n",
      " \n",
      " \n",
      " \n",
      ": Hola : )  \n",
      " \n",
      "Blublublu \n",
      " \n",
      " \n",
      "… 12345 \n",
      " \n",
      ". . .  \n",
      " \n",
      "2. Title 2.  \n",
      " \n",
      "Phrase number one. \n",
      "Phrase number two. \n",
      "Phrase number tree.  \n",
      " \n",
      "Text text text text  \n",
      " \n",
      " \n",
      " \n",
      " \n",
      " \n",
      " \n",
      " \n",
      " \n",
      " \n",
      " \n",
      " \n",
      " \n",
      " \n",
      " \n",
      " \n",
      " \n",
      " \n",
      " \n",
      " \n",
      " \n",
      " \n",
      " \n",
      " \n",
      " \n",
      " \n",
      "  I \n"
     ]
    }
   ],
   "source": [
    "with pdfplumber.open(r'Hola.pdf') as pdf:\n",
    "    first_page = pdf.pages[0]\n",
    "    print(first_page.extract_text())"
   ]
  },
  {
   "cell_type": "code",
   "execution_count": null,
   "metadata": {},
   "outputs": [],
   "source": [
    "second_page = pdf1.pages[1]\n",
    "print(second_page.extract_text())"
   ]
  },
  {
   "cell_type": "markdown",
   "metadata": {},
   "source": [
    "**Now let's put it in a more general way**"
   ]
  },
  {
   "cell_type": "markdown",
   "metadata": {},
   "source": [
    "First import the pdf "
   ]
  },
  {
   "cell_type": "code",
   "execution_count": 108,
   "metadata": {},
   "outputs": [],
   "source": [
    "pdf= pdfplumber.open(r'Hola.pdf')"
   ]
  },
  {
   "cell_type": "markdown",
   "metadata": {},
   "source": [
    "With a real pdf from the literature "
   ]
  },
  {
   "cell_type": "code",
   "execution_count": 105,
   "metadata": {},
   "outputs": [],
   "source": [
    "pdf= pdfplumber.open(r'68930_8pags.pdf')"
   ]
  },
  {
   "cell_type": "code",
   "execution_count": 99,
   "metadata": {},
   "outputs": [
    {
     "name": "stdout",
     "output_type": "stream",
     "text": [
      "Header one  Header two  Header tree \n",
      "1. Title 1. \n",
      " \n",
      " \n",
      " \n",
      ": Hola : )  \n",
      " \n",
      "Blublublu \n",
      " \n",
      " \n",
      "… 12345 \n",
      " \n",
      ". . .  \n",
      " \n",
      "2. Title 2.  \n",
      " \n",
      "Phrase number one. \n",
      "Phrase number two. \n",
      "Phrase number tree.  \n",
      " \n",
      "Text text text text  \n",
      " \n",
      " \n",
      " \n",
      " \n",
      " \n",
      " \n",
      " \n",
      " \n",
      " \n",
      " \n",
      " \n",
      " \n",
      " \n",
      " \n",
      " \n",
      " \n",
      " \n",
      " \n",
      " \n",
      " \n",
      " \n",
      " \n",
      " \n",
      " \n",
      " \n",
      "  I \n"
     ]
    }
   ],
   "source": [
    "first_page = pdf.pages[0]\n",
    "print(first_page.extract_text())"
   ]
  },
  {
   "cell_type": "markdown",
   "metadata": {},
   "source": [
    "Let's try to make in on a loop: it has to go from 0 to the total number of pages of the pdf."
   ]
  },
  {
   "cell_type": "code",
   "execution_count": 100,
   "metadata": {},
   "outputs": [
    {
     "name": "stdout",
     "output_type": "stream",
     "text": [
      "Header one  Header two  Header tree \n",
      "1. Title 1. \n",
      " \n",
      " \n",
      " \n",
      ": Hola : )  \n",
      " \n",
      "Blublublu \n",
      " \n",
      " \n",
      "… 12345 \n",
      " \n",
      ". . .  \n",
      " \n",
      "2. Title 2.  \n",
      " \n",
      "Phrase number one. \n",
      "Phrase number two. \n",
      "Phrase number tree.  \n",
      " \n",
      "Text text text text  \n",
      " \n",
      " \n",
      " \n",
      " \n",
      " \n",
      " \n",
      " \n",
      " \n",
      " \n",
      " \n",
      " \n",
      " \n",
      " \n",
      " \n",
      " \n",
      " \n",
      " \n",
      " \n",
      " \n",
      " \n",
      " \n",
      " \n",
      " \n",
      " \n",
      " \n",
      "  I \n",
      "Header one  Header two  Header tree \n",
      " \n",
      " \n",
      "3. Title 3. \n",
      "a.  Title 3.1. \n",
      " \n",
      "i.  Subtitle \n",
      " \n",
      "Hola 2  \n",
      " \n",
      " \n",
      "blublu2 \n",
      " \n",
      " \n",
      " \n",
      "  II \n"
     ]
    }
   ],
   "source": [
    "for n in range(len(pdf.pages)):\n",
    "    n_page = pdf.pages[n]\n",
    "    print(n_page.extract_text())"
   ]
  },
  {
   "cell_type": "markdown",
   "metadata": {},
   "source": [
    "Now I want to assign the result into a array so I can keep working with it. First we create an empty array and save the result of the loop in this array."
   ]
  },
  {
   "cell_type": "code",
   "execution_count": 109,
   "metadata": {},
   "outputs": [],
   "source": [
    "text=[]\n",
    "for n in range(len(pdf.pages)):\n",
    "    n_page = pdf.pages[n]\n",
    "    text.append(n_page.extract_text())"
   ]
  },
  {
   "cell_type": "code",
   "execution_count": 110,
   "metadata": {},
   "outputs": [
    {
     "data": {
      "text/plain": [
       "['Header one  Header two  Header tree \\n1. Title 1. \\n \\n \\n \\n: Hola : )  \\n \\nBlublublu \\n \\n \\n… 12345 \\n \\n. . .  \\n \\n2. Title 2.  \\n \\nPhrase number one. \\nPhrase number two. \\nPhrase number tree.  \\n \\nText text text text  \\n \\n \\n \\n \\n \\n \\n \\n \\n \\n \\n \\n \\n \\n \\n \\n \\n \\n \\n \\n \\n \\n \\n \\n \\n \\n  I ',\n",
       " 'Header one  Header two  Header tree \\n \\n \\n3. Title 3. \\na.  Title 3.1. \\n \\ni.  Subtitle \\n \\nHola 2  \\n \\n \\nblublu2 \\n \\n \\n \\n  II ']"
      ]
     },
     "execution_count": 110,
     "metadata": {},
     "output_type": "execute_result"
    }
   ],
   "source": [
    "text"
   ]
  },
  {
   "cell_type": "markdown",
   "metadata": {},
   "source": [
    "In ```text``` we can see all of the extra things that are on the text, like the \\n"
   ]
  },
  {
   "cell_type": "code",
   "execution_count": 103,
   "metadata": {},
   "outputs": [
    {
     "data": {
      "text/plain": [
       "list"
      ]
     },
     "execution_count": 103,
     "metadata": {},
     "output_type": "execute_result"
    }
   ],
   "source": [
    "type(text)"
   ]
  },
  {
   "cell_type": "markdown",
   "metadata": {},
   "source": [
    "## <span style='color:mediumvioletred'> Step 2. Remove headers and such </span>"
   ]
  },
  {
   "cell_type": "markdown",
   "metadata": {},
   "source": [
    "Each page corresponds to an element of the vector/list text. "
   ]
  },
  {
   "cell_type": "markdown",
   "metadata": {},
   "source": [
    "We could remove the header assuming it corresponds to the \"first phrase\" of each page, that is before the first \\n"
   ]
  },
  {
   "cell_type": "markdown",
   "metadata": {},
   "source": [
    "## <span style='color:mediumvioletred'> Step 3. Clean the text: remove all of the extra things and leave all the phrases in only one line </span>"
   ]
  },
  {
   "cell_type": "markdown",
   "metadata": {},
   "source": [
    "We want to delete all of the \\n. \n",
    "\n",
    "`string.replace(old_text, new_text, count)`"
   ]
  },
  {
   "cell_type": "code",
   "execution_count": 89,
   "metadata": {},
   "outputs": [],
   "source": [
    "import pandas as pd"
   ]
  },
  {
   "cell_type": "code",
   "execution_count": 93,
   "metadata": {},
   "outputs": [
    {
     "data": {
      "text/html": [
       "<div>\n",
       "<style scoped>\n",
       "    .dataframe tbody tr th:only-of-type {\n",
       "        vertical-align: middle;\n",
       "    }\n",
       "\n",
       "    .dataframe tbody tr th {\n",
       "        vertical-align: top;\n",
       "    }\n",
       "\n",
       "    .dataframe thead th {\n",
       "        text-align: right;\n",
       "    }\n",
       "</style>\n",
       "<table border=\"1\" class=\"dataframe\">\n",
       "  <thead>\n",
       "    <tr style=\"text-align: right;\">\n",
       "      <th></th>\n",
       "      <th>0</th>\n",
       "    </tr>\n",
       "  </thead>\n",
       "  <tbody>\n",
       "    <tr>\n",
       "      <th>0</th>\n",
       "      <td>Header one  Header two  Header tree \\n1. Title...</td>\n",
       "    </tr>\n",
       "    <tr>\n",
       "      <th>1</th>\n",
       "      <td>Header one  Header two  Header tree \\n \\n \\n3....</td>\n",
       "    </tr>\n",
       "  </tbody>\n",
       "</table>\n",
       "</div>"
      ],
      "text/plain": [
       "                                                   0\n",
       "0  Header one  Header two  Header tree \\n1. Title...\n",
       "1  Header one  Header two  Header tree \\n \\n \\n3...."
      ]
     },
     "execution_count": 93,
     "metadata": {},
     "output_type": "execute_result"
    }
   ],
   "source": [
    "df = pd.DataFrame(text)\n",
    "df"
   ]
  },
  {
   "cell_type": "code",
   "execution_count": 95,
   "metadata": {},
   "outputs": [
    {
     "data": {
      "text/html": [
       "<div>\n",
       "<style scoped>\n",
       "    .dataframe tbody tr th:only-of-type {\n",
       "        vertical-align: middle;\n",
       "    }\n",
       "\n",
       "    .dataframe tbody tr th {\n",
       "        vertical-align: top;\n",
       "    }\n",
       "\n",
       "    .dataframe thead th {\n",
       "        text-align: right;\n",
       "    }\n",
       "</style>\n",
       "<table border=\"1\" class=\"dataframe\">\n",
       "  <thead>\n",
       "    <tr style=\"text-align: right;\">\n",
       "      <th></th>\n",
       "      <th>0</th>\n",
       "    </tr>\n",
       "  </thead>\n",
       "  <tbody>\n",
       "    <tr>\n",
       "      <th>0</th>\n",
       "      <td>Header one  Header two  Header tree 1. Title 1...</td>\n",
       "    </tr>\n",
       "    <tr>\n",
       "      <th>1</th>\n",
       "      <td>Header one  Header two  Header tree   3. Title...</td>\n",
       "    </tr>\n",
       "  </tbody>\n",
       "</table>\n",
       "</div>"
      ],
      "text/plain": [
       "                                                   0\n",
       "0  Header one  Header two  Header tree 1. Title 1...\n",
       "1  Header one  Header two  Header tree   3. Title..."
      ]
     },
     "execution_count": 95,
     "metadata": {},
     "output_type": "execute_result"
    }
   ],
   "source": [
    "dfnon_text = df.replace('\\n','', regex=True)\n",
    "dfnon_text"
   ]
  },
  {
   "cell_type": "markdown",
   "metadata": {},
   "source": [
    "## <span style='color:mediumvioletred'> Step 4. Process de phrases to find specific terms (traits) </span>"
   ]
  },
  {
   "cell_type": "markdown",
   "metadata": {},
   "source": [
    "## <span style='color:mediumvioletred'> Step 5. Linking the terms (traits) to what they belong </span>"
   ]
  },
  {
   "cell_type": "code",
   "execution_count": null,
   "metadata": {},
   "outputs": [],
   "source": []
  },
  {
   "cell_type": "code",
   "execution_count": null,
   "metadata": {},
   "outputs": [],
   "source": []
  },
  {
   "cell_type": "code",
   "execution_count": null,
   "metadata": {},
   "outputs": [],
   "source": []
  },
  {
   "cell_type": "code",
   "execution_count": 56,
   "metadata": {},
   "outputs": [
    {
     "name": "stdout",
     "output_type": "stream",
     "text": [
      "Collecting poppler-utils\n",
      "  Downloading poppler_utils-0.1.0-py3-none-any.whl (9.2 kB)\n",
      "Requirement already satisfied: Click>=7.0 in /opt/anaconda3/lib/python3.8/site-packages (from poppler-utils) (7.1.2)\n",
      "Installing collected packages: poppler-utils\n",
      "Successfully installed poppler-utils-0.1.0\n",
      "Note: you may need to restart the kernel to use updated packages.\n"
     ]
    }
   ],
   "source": [
    "pip install poppler-utils"
   ]
  },
  {
   "cell_type": "markdown",
   "metadata": {},
   "source": [
    "brew install pkg-config poppler python\n",
    "pip install pdftotext\n",
    "import pdftotext"
   ]
  },
  {
   "cell_type": "code",
   "execution_count": null,
   "metadata": {},
   "outputs": [],
   "source": []
  }
 ],
 "metadata": {
  "kernelspec": {
   "display_name": "Python 3",
   "language": "python",
   "name": "python3"
  },
  "language_info": {
   "codemirror_mode": {
    "name": "ipython",
    "version": 3
   },
   "file_extension": ".py",
   "mimetype": "text/x-python",
   "name": "python",
   "nbconvert_exporter": "python",
   "pygments_lexer": "ipython3",
   "version": "3.8.5"
  }
 },
 "nbformat": 4,
 "nbformat_minor": 4
}
